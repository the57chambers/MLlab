{
 "cells": [
  {
   "cell_type": "code",
   "execution_count": 2,
   "id": "86f31060-c450-4348-b036-dfdbb6dd4596",
   "metadata": {},
   "outputs": [
    {
     "name": "stderr",
     "output_type": "stream",
     "text": [
      "C:\\Users\\Jake Hanly\\anaconda3\\envs\\mlfinlab\\lib\\site-packages\\pyfolio\\pos.py:26: UserWarning: Module \"zipline.assets\" not found; mutltipliers will not be applied to position notionals.\n",
      "  warnings.warn(\n"
     ]
    }
   ],
   "source": [
    "import numpy as np\n",
    "import pandas as pd\n",
    "import configparser as cp\n",
    "import timeit\n",
    "import matplotlib.pyplot as plt\n",
    "import pyfolio as pf\n",
    "import ta\n",
    "import configparser as cp"
   ]
  },
  {
   "cell_type": "code",
   "execution_count": 3,
   "id": "2023d83f-afa5-4e3f-a70d-3555736aef3f",
   "metadata": {},
   "outputs": [],
   "source": [
    "import os\n",
    "os.environ['MLFINLAB_API_KEY'] = \"ff083854904e114f02e7bc2a0553fece\"\n",
    "import mlfinlab as ml"
   ]
  },
  {
   "cell_type": "code",
   "execution_count": 4,
   "id": "d3ab1fa9-2e09-4113-9c0e-20ba77d7c111",
   "metadata": {},
   "outputs": [],
   "source": [
    "from sklearn.ensemble import RandomForestClassifier\n",
    "from sklearn.model_selection import train_test_split\n",
    "from sklearn.metrics import roc_curve, classification_report, confusion_matrix, accuracy_score\n",
    "from sklearn.utils import resample, shuffle\n",
    "from sklearn.model_selection import cross_val_score, GridSearchCV\n",
    "from sklearn.linear_model import LinearRegression"
   ]
  },
  {
   "cell_type": "code",
   "execution_count": 5,
   "id": "2b3fad3b-7312-42b9-82c3-6ebe098b5cec",
   "metadata": {},
   "outputs": [],
   "source": [
    "import eikon as ek\n",
    "ek.set_app_key('b3b6cfe33e0040d78b179a693e8af596df6a48c3')"
   ]
  },
  {
   "cell_type": "code",
   "execution_count": null,
   "id": "bc0a2b81-eb74-4a7f-9e04-39747108e69a",
   "metadata": {},
   "outputs": [],
   "source": [
    "ek.__version__"
   ]
  },
  {
   "cell_type": "code",
   "execution_count": null,
   "id": "20de85fc-ac06-4363-9438-63f0ce66bb8c",
   "metadata": {},
   "outputs": [],
   "source": [
    "cfg = cp.ConfigParser()\n",
    "cfg.read('eikon.cfg')"
   ]
  },
  {
   "cell_type": "code",
   "execution_count": 6,
   "id": "a6fa866e-5c41-4c93-96bc-8b1681d7f157",
   "metadata": {},
   "outputs": [],
   "source": [
    "Asset = ['ESc1']"
   ]
  },
  {
   "cell_type": "markdown",
   "id": "992c3f04-34aa-49ba-89a4-60e7be3f3956",
   "metadata": {},
   "source": [
    "2016-2019"
   ]
  },
  {
   "cell_type": "code",
   "execution_count": 7,
   "id": "15bee6a3-19b6-4f70-9510-9aaffa4d56a9",
   "metadata": {},
   "outputs": [],
   "source": [
    "open_data = ek.get_timeseries(Asset,\n",
    "                        start_date='2016-01-01',\n",
    "                        end_date='2019-10-29',\n",
    "                        fields=('OPEN'),\n",
    "                        interval='daily')"
   ]
  },
  {
   "cell_type": "code",
   "execution_count": 8,
   "id": "de8e42e7-8e76-4958-a25e-c8ad030f7e41",
   "metadata": {},
   "outputs": [],
   "source": [
    "high_data = ek.get_timeseries(Asset,\n",
    "                        start_date='2016-01-01',\n",
    "                        end_date='2019-10-29',\n",
    "                        fields=('HIGH'),\n",
    "                        interval='daily')"
   ]
  },
  {
   "cell_type": "code",
   "execution_count": 9,
   "id": "8badfc44-9201-4e71-bbc0-ce9609e04eb7",
   "metadata": {},
   "outputs": [],
   "source": [
    "low_data = ek.get_timeseries(Asset,\n",
    "                        start_date='2016-01-01',\n",
    "                        end_date='2019-10-29',\n",
    "                        fields=('LOW'),\n",
    "                        interval='daily')"
   ]
  },
  {
   "cell_type": "code",
   "execution_count": 10,
   "id": "dec83030-1c4f-43ca-8297-b1394244f13d",
   "metadata": {},
   "outputs": [],
   "source": [
    "close_data = ek.get_timeseries(Asset,\n",
    "                        start_date='2016-01-01',\n",
    "                        end_date='2019-10-29',\n",
    "                        fields=('CLOSE'),\n",
    "                        interval='daily')"
   ]
  },
  {
   "cell_type": "code",
   "execution_count": 11,
   "id": "d801ac1e-4659-4d78-bc07-03b7a8c0f1c5",
   "metadata": {},
   "outputs": [],
   "source": [
    "volume_data = ek.get_timeseries(Asset,\n",
    "                        start_date='2016-01-01',\n",
    "                        end_date='2019-10-29',\n",
    "                        fields=('VOLUME'),\n",
    "                        interval='daily')\n"
   ]
  },
  {
   "cell_type": "markdown",
   "id": "839abd74-28a4-4617-aeaa-ad720df9511a",
   "metadata": {},
   "source": [
    "2019-current"
   ]
  },
  {
   "cell_type": "code",
   "execution_count": 12,
   "id": "42055458-d90a-4a2d-95f1-76cf821c98e7",
   "metadata": {},
   "outputs": [],
   "source": [
    "open_data1 = ek.get_timeseries(Asset,\n",
    "                        start_date='2019-10-30',\n",
    "                        end_date='2023-03-15',\n",
    "                        fields=('OPEN'),\n",
    "                        interval='daily')"
   ]
  },
  {
   "cell_type": "code",
   "execution_count": 13,
   "id": "4be847d7-07b4-48bc-b560-fe12479ff1d9",
   "metadata": {},
   "outputs": [],
   "source": [
    "high_data1 = ek.get_timeseries(Asset,\n",
    "                        start_date='2019-10-30',\n",
    "                        end_date='2023-03-15',\n",
    "                        fields=('HIGH'),\n",
    "                        interval='daily')"
   ]
  },
  {
   "cell_type": "code",
   "execution_count": 14,
   "id": "e2442f53-e724-4d96-af66-4897fec7a272",
   "metadata": {},
   "outputs": [],
   "source": [
    "low_data1 = ek.get_timeseries(Asset,\n",
    "                        start_date='2019-10-30',\n",
    "                        end_date='2023-03-15',\n",
    "                        fields=('LOW'),\n",
    "                        interval='daily')"
   ]
  },
  {
   "cell_type": "code",
   "execution_count": 15,
   "id": "00cdea40-2e6c-459c-af28-a71f8510f5d2",
   "metadata": {},
   "outputs": [],
   "source": [
    "close_data1 = ek.get_timeseries(Asset,\n",
    "                        start_date='2019-10-30',\n",
    "                        end_date='2023-03-15',\n",
    "                        fields=('CLOSE'),\n",
    "                        interval='daily')"
   ]
  },
  {
   "cell_type": "code",
   "execution_count": 16,
   "id": "2a181f80-43f5-4b88-9277-753eb5454df6",
   "metadata": {},
   "outputs": [],
   "source": [
    "volume_data1 = ek.get_timeseries(Asset,\n",
    "                        start_date='2019-10-30',\n",
    "                        end_date='2023-03-15',\n",
    "                        fields=('VOLUME'),\n",
    "                        interval='daily')\n"
   ]
  },
  {
   "cell_type": "code",
   "execution_count": 17,
   "id": "5180c552-4dd3-4cff-905a-17c9774aeba1",
   "metadata": {},
   "outputs": [],
   "source": [
    "historical_data1 = pd.concat([open_data,high_data,low_data,close_data,volume_data], axis=1)\n",
    "historical_data2 = pd.concat([open_data1,high_data1,low_data1,close_data1,volume_data1], axis=1)\n",
    "historical_data = pd.concat([historical_data1, historical_data2], axis=0)"
   ]
  },
  {
   "cell_type": "code",
   "execution_count": 18,
   "id": "3a6ee1cd-80f2-468e-99cc-4f4058959a30",
   "metadata": {},
   "outputs": [],
   "source": [
    "historical_data.fillna(0, inplace=True)\n",
    "\n",
    "historical_data = historical_data.replace([np.inf, -np.inf], np.nan) # replace infinite values with NaN\n",
    "for col in historical_data.columns:\n",
    "    median = historical_data[col].median(skipna=True) # calculate the median of the non-NaN values in the column\n",
    "    historical_data[col] = historical_data[col].fillna(median) # replace the NaN values with the median\n"
   ]
  },
  {
   "cell_type": "code",
   "execution_count": 19,
   "id": "452589fb-fc06-4bd4-a9e5-5d2ba7ac8f15",
   "metadata": {},
   "outputs": [
    {
     "data": {
      "text/html": [
       "<div>\n",
       "<style scoped>\n",
       "    .dataframe tbody tr th:only-of-type {\n",
       "        vertical-align: middle;\n",
       "    }\n",
       "\n",
       "    .dataframe tbody tr th {\n",
       "        vertical-align: top;\n",
       "    }\n",
       "\n",
       "    .dataframe thead th {\n",
       "        text-align: right;\n",
       "    }\n",
       "</style>\n",
       "<table border=\"1\" class=\"dataframe\">\n",
       "  <thead>\n",
       "    <tr style=\"text-align: right;\">\n",
       "      <th>ESc1</th>\n",
       "      <th>OPEN</th>\n",
       "      <th>HIGH</th>\n",
       "      <th>LOW</th>\n",
       "      <th>CLOSE</th>\n",
       "      <th>VOLUME</th>\n",
       "    </tr>\n",
       "    <tr>\n",
       "      <th>Date</th>\n",
       "      <th></th>\n",
       "      <th></th>\n",
       "      <th></th>\n",
       "      <th></th>\n",
       "      <th></th>\n",
       "    </tr>\n",
       "  </thead>\n",
       "  <tbody>\n",
       "    <tr>\n",
       "      <th>2023-03-09</th>\n",
       "      <td>3997.00</td>\n",
       "      <td>4019.75</td>\n",
       "      <td>3909.50</td>\n",
       "      <td>3920.00</td>\n",
       "      <td>2547423</td>\n",
       "    </tr>\n",
       "    <tr>\n",
       "      <th>2023-03-10</th>\n",
       "      <td>3919.00</td>\n",
       "      <td>3941.75</td>\n",
       "      <td>3846.25</td>\n",
       "      <td>3862.75</td>\n",
       "      <td>3285811</td>\n",
       "    </tr>\n",
       "    <tr>\n",
       "      <th>2023-03-13</th>\n",
       "      <td>3887.75</td>\n",
       "      <td>3938.75</td>\n",
       "      <td>3808.75</td>\n",
       "      <td>3856.75</td>\n",
       "      <td>2750477</td>\n",
       "    </tr>\n",
       "    <tr>\n",
       "      <th>2023-03-14</th>\n",
       "      <td>3865.75</td>\n",
       "      <td>3938.00</td>\n",
       "      <td>3855.25</td>\n",
       "      <td>3920.50</td>\n",
       "      <td>1606509</td>\n",
       "    </tr>\n",
       "    <tr>\n",
       "      <th>2023-03-15</th>\n",
       "      <td>3920.50</td>\n",
       "      <td>3931.00</td>\n",
       "      <td>3834.00</td>\n",
       "      <td>3892.75</td>\n",
       "      <td>833643</td>\n",
       "    </tr>\n",
       "  </tbody>\n",
       "</table>\n",
       "</div>"
      ],
      "text/plain": [
       "ESc1           OPEN     HIGH      LOW    CLOSE   VOLUME\n",
       "Date                                                   \n",
       "2023-03-09  3997.00  4019.75  3909.50  3920.00  2547423\n",
       "2023-03-10  3919.00  3941.75  3846.25  3862.75  3285811\n",
       "2023-03-13  3887.75  3938.75  3808.75  3856.75  2750477\n",
       "2023-03-14  3865.75  3938.00  3855.25  3920.50  1606509\n",
       "2023-03-15  3920.50  3931.00  3834.00  3892.75   833643"
      ]
     },
     "execution_count": 19,
     "metadata": {},
     "output_type": "execute_result"
    }
   ],
   "source": [
    "historical_data.tail()"
   ]
  },
  {
   "cell_type": "markdown",
   "id": "55577e3f-dd4d-4512-864e-2c75154331be",
   "metadata": {},
   "source": [
    "get regression estimators"
   ]
  },
  {
   "cell_type": "code",
   "execution_count": 20,
   "id": "dc048db9",
   "metadata": {},
   "outputs": [],
   "source": [
    "#MACD signal\n",
    "\n",
    "# Calculate MACD indicator\n",
    "ema_12 = historical_data['CLOSE'].ewm(span=12, adjust=False).mean()\n",
    "ema_26 = historical_data['CLOSE'].ewm(span=26, adjust=False).mean()\n",
    "macd = ema_12 - ema_26\n",
    "signal = macd.ewm(span=9, adjust=False).mean()\n",
    "histogram = macd - signal\n",
    "\n",
    "historical_data['histogram'] = histogram"
   ]
  },
  {
   "cell_type": "code",
   "execution_count": 21,
   "id": "3052a392",
   "metadata": {},
   "outputs": [],
   "source": [
    "historical_data['side'] = np.nan\n",
    "\n",
    "long_signals = historical_data['histogram'] >= 0 \n",
    "short_signals = historical_data['histogram'] < 0\n",
    "historical_data.loc[long_signals, 'side'] = 1\n",
    "historical_data.loc[short_signals, 'side'] = -1\n"
   ]
  },
  {
   "cell_type": "code",
   "execution_count": 22,
   "id": "ea894bfd-ca48-432d-9350-5186e9bbec74",
   "metadata": {},
   "outputs": [
    {
     "name": "stderr",
     "output_type": "stream",
     "text": [
      "C:\\Users\\Jake Hanly\\anaconda3\\envs\\mlfinlab\\lib\\site-packages\\pandas\\core\\series.py:726: RuntimeWarning: divide by zero encountered in log\n",
      "  result = getattr(ufunc, method)(*inputs, **kwargs)\n"
     ]
    }
   ],
   "source": [
    "historical_data['log_ret'] = np.log(historical_data['CLOSE']).diff()"
   ]
  },
  {
   "cell_type": "code",
   "execution_count": null,
   "id": "fe52f278",
   "metadata": {},
   "outputs": [],
   "source": []
  },
  {
   "cell_type": "code",
   "execution_count": 23,
   "id": "f8ec0f13",
   "metadata": {},
   "outputs": [],
   "source": [
    "# Remove Look ahead biase by lagging the signal - for Base model\n",
    "historical_data['side'] = historical_data['side'].shift(1)"
   ]
  },
  {
   "cell_type": "code",
   "execution_count": 24,
   "id": "161e21b7-b9bc-4511-8a2c-4d81c34a7c55",
   "metadata": {},
   "outputs": [
    {
     "data": {
      "text/html": [
       "<div>\n",
       "<style scoped>\n",
       "    .dataframe tbody tr th:only-of-type {\n",
       "        vertical-align: middle;\n",
       "    }\n",
       "\n",
       "    .dataframe tbody tr th {\n",
       "        vertical-align: top;\n",
       "    }\n",
       "\n",
       "    .dataframe thead th {\n",
       "        text-align: right;\n",
       "    }\n",
       "</style>\n",
       "<table border=\"1\" class=\"dataframe\">\n",
       "  <thead>\n",
       "    <tr style=\"text-align: right;\">\n",
       "      <th>ESc1</th>\n",
       "      <th>OPEN</th>\n",
       "      <th>HIGH</th>\n",
       "      <th>LOW</th>\n",
       "      <th>CLOSE</th>\n",
       "      <th>VOLUME</th>\n",
       "      <th>histogram</th>\n",
       "      <th>side</th>\n",
       "      <th>log_ret</th>\n",
       "    </tr>\n",
       "    <tr>\n",
       "      <th>Date</th>\n",
       "      <th></th>\n",
       "      <th></th>\n",
       "      <th></th>\n",
       "      <th></th>\n",
       "      <th></th>\n",
       "      <th></th>\n",
       "      <th></th>\n",
       "      <th></th>\n",
       "    </tr>\n",
       "  </thead>\n",
       "  <tbody>\n",
       "    <tr>\n",
       "      <th>2023-03-09</th>\n",
       "      <td>3997.00</td>\n",
       "      <td>4019.75</td>\n",
       "      <td>3909.50</td>\n",
       "      <td>3920.00</td>\n",
       "      <td>2547423</td>\n",
       "      <td>-11.265469</td>\n",
       "      <td>-1.0</td>\n",
       "      <td>-0.018952</td>\n",
       "    </tr>\n",
       "    <tr>\n",
       "      <th>2023-03-10</th>\n",
       "      <td>3919.00</td>\n",
       "      <td>3941.75</td>\n",
       "      <td>3846.25</td>\n",
       "      <td>3862.75</td>\n",
       "      <td>3285811</td>\n",
       "      <td>-16.734070</td>\n",
       "      <td>-1.0</td>\n",
       "      <td>-0.014712</td>\n",
       "    </tr>\n",
       "    <tr>\n",
       "      <th>2023-03-13</th>\n",
       "      <td>3887.75</td>\n",
       "      <td>3938.75</td>\n",
       "      <td>3808.75</td>\n",
       "      <td>3856.75</td>\n",
       "      <td>2750477</td>\n",
       "      <td>-19.549830</td>\n",
       "      <td>-1.0</td>\n",
       "      <td>-0.001555</td>\n",
       "    </tr>\n",
       "    <tr>\n",
       "      <th>2023-03-14</th>\n",
       "      <td>3865.75</td>\n",
       "      <td>3938.00</td>\n",
       "      <td>3855.25</td>\n",
       "      <td>3920.50</td>\n",
       "      <td>1606509</td>\n",
       "      <td>-16.059395</td>\n",
       "      <td>-1.0</td>\n",
       "      <td>0.016394</td>\n",
       "    </tr>\n",
       "    <tr>\n",
       "      <th>2023-03-15</th>\n",
       "      <td>3920.50</td>\n",
       "      <td>3931.00</td>\n",
       "      <td>3834.00</td>\n",
       "      <td>3892.75</td>\n",
       "      <td>833643</td>\n",
       "      <td>-14.602047</td>\n",
       "      <td>-1.0</td>\n",
       "      <td>-0.007103</td>\n",
       "    </tr>\n",
       "  </tbody>\n",
       "</table>\n",
       "</div>"
      ],
      "text/plain": [
       "ESc1           OPEN     HIGH      LOW    CLOSE   VOLUME  histogram  side  \\\n",
       "Date                                                                       \n",
       "2023-03-09  3997.00  4019.75  3909.50  3920.00  2547423 -11.265469  -1.0   \n",
       "2023-03-10  3919.00  3941.75  3846.25  3862.75  3285811 -16.734070  -1.0   \n",
       "2023-03-13  3887.75  3938.75  3808.75  3856.75  2750477 -19.549830  -1.0   \n",
       "2023-03-14  3865.75  3938.00  3855.25  3920.50  1606509 -16.059395  -1.0   \n",
       "2023-03-15  3920.50  3931.00  3834.00  3892.75   833643 -14.602047  -1.0   \n",
       "\n",
       "ESc1         log_ret  \n",
       "Date                  \n",
       "2023-03-09 -0.018952  \n",
       "2023-03-10 -0.014712  \n",
       "2023-03-13 -0.001555  \n",
       "2023-03-14  0.016394  \n",
       "2023-03-15 -0.007103  "
      ]
     },
     "execution_count": 24,
     "metadata": {},
     "output_type": "execute_result"
    }
   ],
   "source": [
    "historical_data.tail()"
   ]
  },
  {
   "cell_type": "code",
   "execution_count": 25,
   "id": "7306a8db",
   "metadata": {},
   "outputs": [],
   "source": [
    "#create model returns df\n",
    "basemodeldata = historical_data.loc[:, ['CLOSE', 'histogram', 'log_ret', 'side']]"
   ]
  },
  {
   "cell_type": "code",
   "execution_count": 26,
   "id": "79335279",
   "metadata": {},
   "outputs": [],
   "source": [
    "#calculate returns\n",
    "basemodeldata['ret'] = basemodeldata['log_ret'] * basemodeldata['side']"
   ]
  },
  {
   "cell_type": "code",
   "execution_count": 27,
   "id": "8ef42a6f",
   "metadata": {},
   "outputs": [],
   "source": [
    "#calculate bins\n",
    "basemodeldata['bin'] = (basemodeldata['ret'] > 0).astype(int)"
   ]
  },
  {
   "cell_type": "code",
   "execution_count": 28,
   "id": "caa08b7b",
   "metadata": {},
   "outputs": [],
   "source": [
    "basemodeldata = basemodeldata.replace('#NAME?', np.nan)\n",
    "basemodeldata = basemodeldata.replace([np.inf, -np.inf], np.nan)\n",
    "basemodeldata = basemodeldata.fillna(0)"
   ]
  },
  {
   "cell_type": "code",
   "execution_count": 29,
   "id": "d22cd7da",
   "metadata": {},
   "outputs": [
    {
     "data": {
      "text/html": [
       "<div>\n",
       "<style scoped>\n",
       "    .dataframe tbody tr th:only-of-type {\n",
       "        vertical-align: middle;\n",
       "    }\n",
       "\n",
       "    .dataframe tbody tr th {\n",
       "        vertical-align: top;\n",
       "    }\n",
       "\n",
       "    .dataframe thead th {\n",
       "        text-align: right;\n",
       "    }\n",
       "</style>\n",
       "<table border=\"1\" class=\"dataframe\">\n",
       "  <thead>\n",
       "    <tr style=\"text-align: right;\">\n",
       "      <th>ESc1</th>\n",
       "      <th>CLOSE</th>\n",
       "      <th>histogram</th>\n",
       "      <th>log_ret</th>\n",
       "      <th>side</th>\n",
       "      <th>ret</th>\n",
       "      <th>bin</th>\n",
       "    </tr>\n",
       "    <tr>\n",
       "      <th>Date</th>\n",
       "      <th></th>\n",
       "      <th></th>\n",
       "      <th></th>\n",
       "      <th></th>\n",
       "      <th></th>\n",
       "      <th></th>\n",
       "    </tr>\n",
       "  </thead>\n",
       "  <tbody>\n",
       "    <tr>\n",
       "      <th>2023-03-09</th>\n",
       "      <td>3920.00</td>\n",
       "      <td>-11.265469</td>\n",
       "      <td>-0.018952</td>\n",
       "      <td>-1.0</td>\n",
       "      <td>0.018952</td>\n",
       "      <td>1</td>\n",
       "    </tr>\n",
       "    <tr>\n",
       "      <th>2023-03-10</th>\n",
       "      <td>3862.75</td>\n",
       "      <td>-16.734070</td>\n",
       "      <td>-0.014712</td>\n",
       "      <td>-1.0</td>\n",
       "      <td>0.014712</td>\n",
       "      <td>1</td>\n",
       "    </tr>\n",
       "    <tr>\n",
       "      <th>2023-03-13</th>\n",
       "      <td>3856.75</td>\n",
       "      <td>-19.549830</td>\n",
       "      <td>-0.001555</td>\n",
       "      <td>-1.0</td>\n",
       "      <td>0.001555</td>\n",
       "      <td>1</td>\n",
       "    </tr>\n",
       "    <tr>\n",
       "      <th>2023-03-14</th>\n",
       "      <td>3920.50</td>\n",
       "      <td>-16.059395</td>\n",
       "      <td>0.016394</td>\n",
       "      <td>-1.0</td>\n",
       "      <td>-0.016394</td>\n",
       "      <td>0</td>\n",
       "    </tr>\n",
       "    <tr>\n",
       "      <th>2023-03-15</th>\n",
       "      <td>3892.75</td>\n",
       "      <td>-14.602047</td>\n",
       "      <td>-0.007103</td>\n",
       "      <td>-1.0</td>\n",
       "      <td>0.007103</td>\n",
       "      <td>1</td>\n",
       "    </tr>\n",
       "  </tbody>\n",
       "</table>\n",
       "</div>"
      ],
      "text/plain": [
       "ESc1          CLOSE  histogram   log_ret  side       ret  bin\n",
       "Date                                                         \n",
       "2023-03-09  3920.00 -11.265469 -0.018952  -1.0  0.018952    1\n",
       "2023-03-10  3862.75 -16.734070 -0.014712  -1.0  0.014712    1\n",
       "2023-03-13  3856.75 -19.549830 -0.001555  -1.0  0.001555    1\n",
       "2023-03-14  3920.50 -16.059395  0.016394  -1.0 -0.016394    0\n",
       "2023-03-15  3892.75 -14.602047 -0.007103  -1.0  0.007103    1"
      ]
     },
     "execution_count": 29,
     "metadata": {},
     "output_type": "execute_result"
    }
   ],
   "source": [
    "basemodeldata.tail()"
   ]
  },
  {
   "cell_type": "code",
   "execution_count": 30,
   "id": "8e34d9a9",
   "metadata": {},
   "outputs": [],
   "source": [
    "#lag the data before pairing the days return\n",
    "basemodeldata = basemodeldata.shift(1)"
   ]
  },
  {
   "cell_type": "code",
   "execution_count": 31,
   "id": "fc0225f8",
   "metadata": {},
   "outputs": [],
   "source": [
    "#combine the data\n",
    "historical_data = pd.concat([historical_data, basemodeldata[['ret']]], axis=1)"
   ]
  },
  {
   "cell_type": "code",
   "execution_count": 32,
   "id": "ec511ef8-1be2-452d-90b3-f105919c9c8b",
   "metadata": {},
   "outputs": [
    {
     "data": {
      "text/html": [
       "<div>\n",
       "<style scoped>\n",
       "    .dataframe tbody tr th:only-of-type {\n",
       "        vertical-align: middle;\n",
       "    }\n",
       "\n",
       "    .dataframe tbody tr th {\n",
       "        vertical-align: top;\n",
       "    }\n",
       "\n",
       "    .dataframe thead th {\n",
       "        text-align: right;\n",
       "    }\n",
       "</style>\n",
       "<table border=\"1\" class=\"dataframe\">\n",
       "  <thead>\n",
       "    <tr style=\"text-align: right;\">\n",
       "      <th>ESc1</th>\n",
       "      <th>OPEN</th>\n",
       "      <th>HIGH</th>\n",
       "      <th>LOW</th>\n",
       "      <th>CLOSE</th>\n",
       "      <th>VOLUME</th>\n",
       "      <th>histogram</th>\n",
       "      <th>side</th>\n",
       "      <th>log_ret</th>\n",
       "      <th>ret</th>\n",
       "    </tr>\n",
       "    <tr>\n",
       "      <th>Date</th>\n",
       "      <th></th>\n",
       "      <th></th>\n",
       "      <th></th>\n",
       "      <th></th>\n",
       "      <th></th>\n",
       "      <th></th>\n",
       "      <th></th>\n",
       "      <th></th>\n",
       "      <th></th>\n",
       "    </tr>\n",
       "  </thead>\n",
       "  <tbody>\n",
       "    <tr>\n",
       "      <th>2023-03-09</th>\n",
       "      <td>3997.00</td>\n",
       "      <td>4019.75</td>\n",
       "      <td>3909.50</td>\n",
       "      <td>3920.00</td>\n",
       "      <td>2547423</td>\n",
       "      <td>-11.265469</td>\n",
       "      <td>-1.0</td>\n",
       "      <td>-0.018952</td>\n",
       "      <td>-0.001315</td>\n",
       "    </tr>\n",
       "    <tr>\n",
       "      <th>2023-03-10</th>\n",
       "      <td>3919.00</td>\n",
       "      <td>3941.75</td>\n",
       "      <td>3846.25</td>\n",
       "      <td>3862.75</td>\n",
       "      <td>3285811</td>\n",
       "      <td>-16.734070</td>\n",
       "      <td>-1.0</td>\n",
       "      <td>-0.014712</td>\n",
       "      <td>0.018952</td>\n",
       "    </tr>\n",
       "    <tr>\n",
       "      <th>2023-03-13</th>\n",
       "      <td>3887.75</td>\n",
       "      <td>3938.75</td>\n",
       "      <td>3808.75</td>\n",
       "      <td>3856.75</td>\n",
       "      <td>2750477</td>\n",
       "      <td>-19.549830</td>\n",
       "      <td>-1.0</td>\n",
       "      <td>-0.001555</td>\n",
       "      <td>0.014712</td>\n",
       "    </tr>\n",
       "    <tr>\n",
       "      <th>2023-03-14</th>\n",
       "      <td>3865.75</td>\n",
       "      <td>3938.00</td>\n",
       "      <td>3855.25</td>\n",
       "      <td>3920.50</td>\n",
       "      <td>1606509</td>\n",
       "      <td>-16.059395</td>\n",
       "      <td>-1.0</td>\n",
       "      <td>0.016394</td>\n",
       "      <td>0.001555</td>\n",
       "    </tr>\n",
       "    <tr>\n",
       "      <th>2023-03-15</th>\n",
       "      <td>3920.50</td>\n",
       "      <td>3931.00</td>\n",
       "      <td>3834.00</td>\n",
       "      <td>3892.75</td>\n",
       "      <td>833643</td>\n",
       "      <td>-14.602047</td>\n",
       "      <td>-1.0</td>\n",
       "      <td>-0.007103</td>\n",
       "      <td>-0.016394</td>\n",
       "    </tr>\n",
       "  </tbody>\n",
       "</table>\n",
       "</div>"
      ],
      "text/plain": [
       "ESc1           OPEN     HIGH      LOW    CLOSE   VOLUME  histogram  side  \\\n",
       "Date                                                                       \n",
       "2023-03-09  3997.00  4019.75  3909.50  3920.00  2547423 -11.265469  -1.0   \n",
       "2023-03-10  3919.00  3941.75  3846.25  3862.75  3285811 -16.734070  -1.0   \n",
       "2023-03-13  3887.75  3938.75  3808.75  3856.75  2750477 -19.549830  -1.0   \n",
       "2023-03-14  3865.75  3938.00  3855.25  3920.50  1606509 -16.059395  -1.0   \n",
       "2023-03-15  3920.50  3931.00  3834.00  3892.75   833643 -14.602047  -1.0   \n",
       "\n",
       "ESc1         log_ret       ret  \n",
       "Date                            \n",
       "2023-03-09 -0.018952 -0.001315  \n",
       "2023-03-10 -0.014712  0.018952  \n",
       "2023-03-13 -0.001555  0.014712  \n",
       "2023-03-14  0.016394  0.001555  \n",
       "2023-03-15 -0.007103 -0.016394  "
      ]
     },
     "execution_count": 32,
     "metadata": {},
     "output_type": "execute_result"
    }
   ],
   "source": [
    "historical_data.tail()"
   ]
  },
  {
   "cell_type": "code",
   "execution_count": 33,
   "id": "4f8b27bc-6755-478f-ace6-54d127200eec",
   "metadata": {},
   "outputs": [
    {
     "name": "stderr",
     "output_type": "stream",
     "text": [
      "<frozen mlfinlab.labeling.trend_scanning>:133: RuntimeWarning: divide by zero encountered in true_divide\n"
     ]
    }
   ],
   "source": [
    "# Import MlFinLab tools\n",
    "from mlfinlab.labeling import trend_scanning_labels\n",
    "\n",
    "# Loading data to use\n",
    "ES_close = historical_data['CLOSE']\n",
    "\n",
    "# Choosing a period where trends would be seen (mid-2008  -  mid-2009)\n",
    "ES_close = ES_close.loc[pd.Timestamp(2017, 1, 5):pd.Timestamp(2023, 3, 15)]\n",
    "\n",
    "# Getting indexes that we want to label\n",
    "t_events = ES_close.index\n",
    "\n",
    "# Fitting regressions to various windows up to 20 days back, using a minimum sample length of 5\n",
    "tr_scan_labels = trend_scanning_labels(ES_close, t_events, observation_window=20,\n",
    "                                       look_forward = False, min_sample_length=5, step=5)\n"
   ]
  },
  {
   "cell_type": "code",
   "execution_count": 34,
   "id": "f583e4ee-f1e3-4fda-a6aa-532f301317fe",
   "metadata": {},
   "outputs": [],
   "source": [
    "historical_data['trend_tvalue'] = tr_scan_labels['t_value']\n",
    "historical_data['tvalue_tm1'] = historical_data['trend_tvalue'].shift(1)"
   ]
  },
  {
   "cell_type": "code",
   "execution_count": 35,
   "id": "81a082c1-e260-4f2c-8e73-be9243d75b34",
   "metadata": {},
   "outputs": [],
   "source": [
    "historical_data['trend'] = historical_data['tvalue_tm1'].rolling(window=20).mean()"
   ]
  },
  {
   "cell_type": "code",
   "execution_count": 36,
   "id": "a6375a22-0ac6-4688-aa7b-4d5c3bfe2a68",
   "metadata": {},
   "outputs": [],
   "source": [
    "raw_data = historical_data"
   ]
  },
  {
   "cell_type": "code",
   "execution_count": 37,
   "id": "db05c526-03f6-490c-a6ea-00363ff65743",
   "metadata": {},
   "outputs": [
    {
     "name": "stderr",
     "output_type": "stream",
     "text": [
      "C:\\Users\\Jake Hanly\\anaconda3\\envs\\mlfinlab\\lib\\site-packages\\ta\\trend.py:780: RuntimeWarning: invalid value encountered in double_scalars\n",
      "  dip[idx] = 100 * (self._dip[idx] / value)\n",
      "C:\\Users\\Jake Hanly\\anaconda3\\envs\\mlfinlab\\lib\\site-packages\\ta\\trend.py:785: RuntimeWarning: invalid value encountered in double_scalars\n",
      "  din[idx] = 100 * (self._din[idx] / value)\n",
      "C:\\Users\\Jake Hanly\\anaconda3\\envs\\mlfinlab\\lib\\site-packages\\pandas\\core\\series.py:726: RuntimeWarning: divide by zero encountered in log\n",
      "  result = getattr(ufunc, method)(*inputs, **kwargs)\n"
     ]
    }
   ],
   "source": [
    "raw_data = ta.add_all_ta_features(raw_data, \"OPEN\", \"HIGH\", \"LOW\", \"CLOSE\", \"VOLUME\", fillna=True)"
   ]
  },
  {
   "cell_type": "code",
   "execution_count": 38,
   "id": "a1639d2a-78e0-4f6d-b0ba-a6637df79777",
   "metadata": {},
   "outputs": [
    {
     "data": {
      "text/html": [
       "<div>\n",
       "<style scoped>\n",
       "    .dataframe tbody tr th:only-of-type {\n",
       "        vertical-align: middle;\n",
       "    }\n",
       "\n",
       "    .dataframe tbody tr th {\n",
       "        vertical-align: top;\n",
       "    }\n",
       "\n",
       "    .dataframe thead th {\n",
       "        text-align: right;\n",
       "    }\n",
       "</style>\n",
       "<table border=\"1\" class=\"dataframe\">\n",
       "  <thead>\n",
       "    <tr style=\"text-align: right;\">\n",
       "      <th>ESc1</th>\n",
       "      <th>OPEN</th>\n",
       "      <th>HIGH</th>\n",
       "      <th>LOW</th>\n",
       "      <th>CLOSE</th>\n",
       "      <th>VOLUME</th>\n",
       "      <th>histogram</th>\n",
       "      <th>side</th>\n",
       "      <th>log_ret</th>\n",
       "      <th>ret</th>\n",
       "      <th>trend_tvalue</th>\n",
       "      <th>...</th>\n",
       "      <th>momentum_ppo</th>\n",
       "      <th>momentum_ppo_signal</th>\n",
       "      <th>momentum_ppo_hist</th>\n",
       "      <th>momentum_pvo</th>\n",
       "      <th>momentum_pvo_signal</th>\n",
       "      <th>momentum_pvo_hist</th>\n",
       "      <th>momentum_kama</th>\n",
       "      <th>others_dr</th>\n",
       "      <th>others_dlr</th>\n",
       "      <th>others_cr</th>\n",
       "    </tr>\n",
       "    <tr>\n",
       "      <th>Date</th>\n",
       "      <th></th>\n",
       "      <th></th>\n",
       "      <th></th>\n",
       "      <th></th>\n",
       "      <th></th>\n",
       "      <th></th>\n",
       "      <th></th>\n",
       "      <th></th>\n",
       "      <th></th>\n",
       "      <th></th>\n",
       "      <th></th>\n",
       "      <th></th>\n",
       "      <th></th>\n",
       "      <th></th>\n",
       "      <th></th>\n",
       "      <th></th>\n",
       "      <th></th>\n",
       "      <th></th>\n",
       "      <th></th>\n",
       "      <th></th>\n",
       "      <th></th>\n",
       "    </tr>\n",
       "  </thead>\n",
       "  <tbody>\n",
       "    <tr>\n",
       "      <th>2023-03-09</th>\n",
       "      <td>3997.00</td>\n",
       "      <td>4019.75</td>\n",
       "      <td>3909.50</td>\n",
       "      <td>3920.00</td>\n",
       "      <td>2547423</td>\n",
       "      <td>-11.265469</td>\n",
       "      <td>-1.0</td>\n",
       "      <td>-0.018952</td>\n",
       "      <td>-0.001315</td>\n",
       "      <td>-5.058304</td>\n",
       "      <td>...</td>\n",
       "      <td>-0.496576</td>\n",
       "      <td>-0.216645</td>\n",
       "      <td>-0.279931</td>\n",
       "      <td>3.666112</td>\n",
       "      <td>1.985708</td>\n",
       "      <td>1.680404</td>\n",
       "      <td>4005.627981</td>\n",
       "      <td>-1.877347</td>\n",
       "      <td>-1.895193</td>\n",
       "      <td>95.121951</td>\n",
       "    </tr>\n",
       "    <tr>\n",
       "      <th>2023-03-10</th>\n",
       "      <td>3919.00</td>\n",
       "      <td>3941.75</td>\n",
       "      <td>3846.25</td>\n",
       "      <td>3862.75</td>\n",
       "      <td>3285811</td>\n",
       "      <td>-16.734070</td>\n",
       "      <td>-1.0</td>\n",
       "      <td>-0.014712</td>\n",
       "      <td>0.018952</td>\n",
       "      <td>-6.436892</td>\n",
       "      <td>...</td>\n",
       "      <td>-0.738713</td>\n",
       "      <td>-0.321058</td>\n",
       "      <td>-0.417655</td>\n",
       "      <td>8.520856</td>\n",
       "      <td>3.292738</td>\n",
       "      <td>5.228118</td>\n",
       "      <td>3995.621419</td>\n",
       "      <td>-1.460459</td>\n",
       "      <td>-1.471229</td>\n",
       "      <td>92.272275</td>\n",
       "    </tr>\n",
       "    <tr>\n",
       "      <th>2023-03-13</th>\n",
       "      <td>3887.75</td>\n",
       "      <td>3938.75</td>\n",
       "      <td>3808.75</td>\n",
       "      <td>3856.75</td>\n",
       "      <td>2750477</td>\n",
       "      <td>-19.549830</td>\n",
       "      <td>-1.0</td>\n",
       "      <td>-0.001555</td>\n",
       "      <td>0.014712</td>\n",
       "      <td>-6.269170</td>\n",
       "      <td>...</td>\n",
       "      <td>-0.933442</td>\n",
       "      <td>-0.443535</td>\n",
       "      <td>-0.489907</td>\n",
       "      <td>9.955162</td>\n",
       "      <td>4.625223</td>\n",
       "      <td>5.329940</td>\n",
       "      <td>3983.013022</td>\n",
       "      <td>-0.155330</td>\n",
       "      <td>-0.155451</td>\n",
       "      <td>91.973619</td>\n",
       "    </tr>\n",
       "    <tr>\n",
       "      <th>2023-03-14</th>\n",
       "      <td>3865.75</td>\n",
       "      <td>3938.00</td>\n",
       "      <td>3855.25</td>\n",
       "      <td>3920.50</td>\n",
       "      <td>1606509</td>\n",
       "      <td>-16.059395</td>\n",
       "      <td>-1.0</td>\n",
       "      <td>0.016394</td>\n",
       "      <td>0.001555</td>\n",
       "      <td>-5.844185</td>\n",
       "      <td>...</td>\n",
       "      <td>-0.947934</td>\n",
       "      <td>-0.544415</td>\n",
       "      <td>-0.403520</td>\n",
       "      <td>6.806060</td>\n",
       "      <td>5.061390</td>\n",
       "      <td>1.744670</td>\n",
       "      <td>3981.596378</td>\n",
       "      <td>1.652946</td>\n",
       "      <td>1.639434</td>\n",
       "      <td>95.146839</td>\n",
       "    </tr>\n",
       "    <tr>\n",
       "      <th>2023-03-15</th>\n",
       "      <td>3920.50</td>\n",
       "      <td>3931.00</td>\n",
       "      <td>3834.00</td>\n",
       "      <td>3892.75</td>\n",
       "      <td>833643</td>\n",
       "      <td>-14.602047</td>\n",
       "      <td>-1.0</td>\n",
       "      <td>-0.007103</td>\n",
       "      <td>-0.016394</td>\n",
       "      <td>-5.590101</td>\n",
       "      <td>...</td>\n",
       "      <td>-1.004729</td>\n",
       "      <td>-0.636478</td>\n",
       "      <td>-0.368251</td>\n",
       "      <td>1.127114</td>\n",
       "      <td>4.274535</td>\n",
       "      <td>-3.147421</td>\n",
       "      <td>3979.264488</td>\n",
       "      <td>-0.707818</td>\n",
       "      <td>-0.710335</td>\n",
       "      <td>93.765555</td>\n",
       "    </tr>\n",
       "  </tbody>\n",
       "</table>\n",
       "<p>5 rows × 98 columns</p>\n",
       "</div>"
      ],
      "text/plain": [
       "ESc1           OPEN     HIGH      LOW    CLOSE   VOLUME  histogram  side  \\\n",
       "Date                                                                       \n",
       "2023-03-09  3997.00  4019.75  3909.50  3920.00  2547423 -11.265469  -1.0   \n",
       "2023-03-10  3919.00  3941.75  3846.25  3862.75  3285811 -16.734070  -1.0   \n",
       "2023-03-13  3887.75  3938.75  3808.75  3856.75  2750477 -19.549830  -1.0   \n",
       "2023-03-14  3865.75  3938.00  3855.25  3920.50  1606509 -16.059395  -1.0   \n",
       "2023-03-15  3920.50  3931.00  3834.00  3892.75   833643 -14.602047  -1.0   \n",
       "\n",
       "ESc1         log_ret       ret  trend_tvalue  ...  momentum_ppo  \\\n",
       "Date                                          ...                 \n",
       "2023-03-09 -0.018952 -0.001315     -5.058304  ...     -0.496576   \n",
       "2023-03-10 -0.014712  0.018952     -6.436892  ...     -0.738713   \n",
       "2023-03-13 -0.001555  0.014712     -6.269170  ...     -0.933442   \n",
       "2023-03-14  0.016394  0.001555     -5.844185  ...     -0.947934   \n",
       "2023-03-15 -0.007103 -0.016394     -5.590101  ...     -1.004729   \n",
       "\n",
       "ESc1        momentum_ppo_signal  momentum_ppo_hist  momentum_pvo  \\\n",
       "Date                                                               \n",
       "2023-03-09            -0.216645          -0.279931      3.666112   \n",
       "2023-03-10            -0.321058          -0.417655      8.520856   \n",
       "2023-03-13            -0.443535          -0.489907      9.955162   \n",
       "2023-03-14            -0.544415          -0.403520      6.806060   \n",
       "2023-03-15            -0.636478          -0.368251      1.127114   \n",
       "\n",
       "ESc1        momentum_pvo_signal  momentum_pvo_hist  momentum_kama  others_dr  \\\n",
       "Date                                                                           \n",
       "2023-03-09             1.985708           1.680404    4005.627981  -1.877347   \n",
       "2023-03-10             3.292738           5.228118    3995.621419  -1.460459   \n",
       "2023-03-13             4.625223           5.329940    3983.013022  -0.155330   \n",
       "2023-03-14             5.061390           1.744670    3981.596378   1.652946   \n",
       "2023-03-15             4.274535          -3.147421    3979.264488  -0.707818   \n",
       "\n",
       "ESc1        others_dlr  others_cr  \n",
       "Date                               \n",
       "2023-03-09   -1.895193  95.121951  \n",
       "2023-03-10   -1.471229  92.272275  \n",
       "2023-03-13   -0.155451  91.973619  \n",
       "2023-03-14    1.639434  95.146839  \n",
       "2023-03-15   -0.710335  93.765555  \n",
       "\n",
       "[5 rows x 98 columns]"
      ]
     },
     "execution_count": 38,
     "metadata": {},
     "output_type": "execute_result"
    }
   ],
   "source": [
    "raw_data.tail()"
   ]
  },
  {
   "cell_type": "code",
   "execution_count": 39,
   "id": "e6dae27a-494f-4a93-ae39-cd8ca25dcd2d",
   "metadata": {},
   "outputs": [],
   "source": [
    "# Log Returns\n",
    "#raw_data['log_ret'] = np.log(raw_data['CLOSE']).diff()\n",
    "\n",
    "#PRICE DATA\n",
    "# Momentum\n",
    "raw_data['mom1'] = raw_data['CLOSE'].pct_change(periods=1)\n",
    "raw_data['mom3'] = raw_data['CLOSE'].pct_change(periods=3)\n",
    "raw_data['mom5'] = raw_data['CLOSE'].pct_change(periods=5)\n",
    "raw_data['mom10'] = raw_data['CLOSE'].pct_change(periods=10)\n",
    "raw_data['mom20'] = raw_data['CLOSE'].pct_change(periods=20)\n",
    "raw_data['mom40'] = raw_data['CLOSE'].pct_change(periods=40)\n",
    "raw_data['mom60'] = raw_data['CLOSE'].pct_change(periods=60)\n",
    "raw_data['mom120'] = raw_data['CLOSE'].pct_change(periods=120)\n",
    "raw_data['mom250'] = raw_data['CLOSE'].pct_change(periods=250)\n",
    "\n",
    "# Volatility\n",
    "raw_data['volatility_250'] = raw_data['log_ret'].rolling(window=250, min_periods=250, center=False).std()\n",
    "raw_data['volatility_120'] = raw_data['log_ret'].rolling(window=120, min_periods=120, center=False).std()\n",
    "raw_data['volatility_50'] = raw_data['log_ret'].rolling(window=50, min_periods=50, center=False).std()\n",
    "raw_data['volatility_31'] = raw_data['log_ret'].rolling(window=31, min_periods=31, center=False).std()\n",
    "raw_data['volatility_15'] = raw_data['log_ret'].rolling(window=15, min_periods=15, center=False).std()\n",
    "\n",
    "# Serial Correlation (Takes about 4 minutes)\n",
    "window_autocorr = 50\n",
    "\n",
    "raw_data['autocorr_1'] = raw_data['log_ret'].rolling(window=window_autocorr, min_periods=window_autocorr, center=False).apply(lambda x: x.autocorr(lag=1), raw=False)\n",
    "raw_data['autocorr_2'] = raw_data['log_ret'].rolling(window=window_autocorr, min_periods=window_autocorr, center=False).apply(lambda x: x.autocorr(lag=2), raw=False)\n",
    "raw_data['autocorr_3'] = raw_data['log_ret'].rolling(window=window_autocorr, min_periods=window_autocorr, center=False).apply(lambda x: x.autocorr(lag=3), raw=False)\n",
    "raw_data['autocorr_5'] = raw_data['log_ret'].rolling(window=window_autocorr, min_periods=window_autocorr, center=False).apply(lambda x: x.autocorr(lag=5), raw=False)\n",
    "raw_data['autocorr_10'] = raw_data['log_ret'].rolling(window=window_autocorr, min_periods=window_autocorr, center=False).apply(lambda x: x.autocorr(lag=10), raw=False)\n",
    "\n",
    "# Get the various log -t returns\n",
    "raw_data['log_t1'] = raw_data['log_ret'].shift(1)\n",
    "raw_data['log_t2'] = raw_data['log_ret'].shift(2)\n",
    "raw_data['log_t3'] = raw_data['log_ret'].shift(3)\n",
    "raw_data['log_t5'] = raw_data['log_ret'].shift(5)\n",
    "\n",
    "#correlation\n",
    "\n"
   ]
  },
  {
   "cell_type": "code",
   "execution_count": 40,
   "id": "b4dfb7b6-4621-4b21-8bfb-f40f218777cb",
   "metadata": {},
   "outputs": [
    {
     "name": "stdout",
     "output_type": "stream",
     "text": [
      "Date\n",
      "2016-02-03    0.016161\n",
      "2016-02-04    0.015799\n",
      "2016-02-05    0.016063\n",
      "2016-02-08    0.016409\n",
      "2016-02-09    0.016110\n",
      "                ...   \n",
      "2023-03-09    0.010046\n",
      "2023-03-10    0.010152\n",
      "2023-03-13    0.010878\n",
      "2023-03-14    0.010842\n",
      "2023-03-15    0.011222\n",
      "Name: parkinson_sinclair, Length: 1793, dtype: float64\n"
     ]
    }
   ],
   "source": [
    "from mlfinlab.features.volatility_estimators import parkinson\n",
    "\n",
    "o_h_l_c = raw_data.iloc[:,0:4]\n",
    "\n",
    "parkinson_sinclair = parkinson(o_h_l_c, 22, False)\n",
    "\n",
    "#add columnheader name\n",
    "parkinson_sinclair.name = 'parkinson_sinclair'\n",
    "\n",
    "print(parkinson_sinclair)"
   ]
  },
  {
   "cell_type": "code",
   "execution_count": 41,
   "id": "a68307ea-99ee-486f-850f-275393789934",
   "metadata": {},
   "outputs": [],
   "source": [
    "\n",
    "raw_data = raw_data.join(parkinson_sinclair, how='outer')"
   ]
  },
  {
   "cell_type": "code",
   "execution_count": 42,
   "id": "0c292189-640c-40ea-8356-0bd7d6fac221",
   "metadata": {},
   "outputs": [],
   "source": [
    "# Calculating volatility with Parkinson estimator (De Prado formula)\n",
    "parkinson_deprado = parkinson(o_h_l_c, 22, True)\n",
    "\n",
    "#add columnheader name\n",
    "parkinson_deprado.name = 'parkinson_deprado'\n",
    "\n",
    "raw_data = raw_data.join(parkinson_deprado, how='outer')"
   ]
  },
  {
   "cell_type": "code",
   "execution_count": 43,
   "id": "7e54a777-9e67-4933-812b-5d2ed4003f80",
   "metadata": {},
   "outputs": [
    {
     "name": "stderr",
     "output_type": "stream",
     "text": [
      "C:\\Users\\Jake Hanly\\anaconda3\\envs\\mlfinlab\\lib\\site-packages\\pandas\\core\\series.py:726: RuntimeWarning: divide by zero encountered in log\n",
      "  result = getattr(ufunc, method)(*inputs, **kwargs)\n"
     ]
    }
   ],
   "source": [
    "from mlfinlab.features.volatility_estimators import garman_klass\n",
    "\n",
    "# Calculating volatility with Garman-Klass estimator\n",
    "garman_klass_volatility = garman_klass(o_h_l_c, window= 22)\n",
    "\n",
    "#add columnheader name\n",
    "garman_klass_volatility.name = 'garman_klass_volatility'\n",
    "\n",
    "raw_data = raw_data.join(garman_klass_volatility, how='outer')"
   ]
  },
  {
   "cell_type": "code",
   "execution_count": 44,
   "id": "162ede9e-3876-489f-a3ec-a8810183a32b",
   "metadata": {},
   "outputs": [],
   "source": [
    "from mlfinlab.features.volatility_estimators import rogers_satchell\n",
    "\n",
    "# Calculating volatility with Rogers-Satchell estimator\n",
    "rogers_satchell_volatility = rogers_satchell(o_h_l_c, window= 20)\n",
    "\n",
    "#add columnheader name\n",
    "rogers_satchell_volatility.name = 'rogers_satchell_volatility'\n",
    "\n",
    "raw_data = raw_data.join(rogers_satchell_volatility, how='outer')"
   ]
  },
  {
   "cell_type": "code",
   "execution_count": 45,
   "id": "53dd4aa9-69a5-4b79-8d58-e0ab32e4216a",
   "metadata": {},
   "outputs": [],
   "source": [
    "from mlfinlab.features.volatility_estimators import CorwinShultzVolatility\n",
    "\n",
    "# Calculating volatility with Corwin Shultz estimator\n",
    "corwin_shultz_temp = CorwinShultzVolatility(o_h_l_c ,22)\n",
    "corwin_shultz_volatility = corwin_shultz_temp.calculate_volatility()\n",
    "\n",
    "#add columnheader name\n",
    "corwin_shultz_volatility.name = 'corwin_shultz_volatility'\n",
    "\n",
    "raw_data = raw_data.join(corwin_shultz_volatility, how='outer')\n"
   ]
  },
  {
   "cell_type": "code",
   "execution_count": 46,
   "id": "bc549b23-1b96-464d-ae2f-1bc343e2cd91",
   "metadata": {},
   "outputs": [],
   "source": [
    "\n",
    "from mlfinlab.features.volatility_estimators import cho_frees\n",
    "\n",
    "\n",
    "# Calculating volatility with Cho Frees estimator\n",
    "cho_frees_volatility = cho_frees(o_h_l_c, 0.01)\n",
    "\n",
    "#add columnheader name\n",
    "cho_frees_volatility.name = 'cho_frees_volatility'\n",
    "\n",
    "raw_data = raw_data.join(cho_frees_volatility, how='outer')"
   ]
  },
  {
   "cell_type": "code",
   "execution_count": 47,
   "id": "0c5755dc-89c4-4a6e-975b-b77f06654211",
   "metadata": {},
   "outputs": [],
   "source": [
    "from mlfinlab.features.volatility_estimators import first_exit_times\n",
    "\n",
    "# Calculating volatility with first exit times estimator\n",
    "first_exit_times_volatility = first_exit_times(o_h_l_c, 0.01, 22)\n",
    "\n",
    "#add columnheader name\n",
    "first_exit_times_volatility.name = 'first_exit_times_volatility'\n",
    "\n",
    "raw_data = raw_data.join(first_exit_times_volatility, how='outer')"
   ]
  },
  {
   "cell_type": "code",
   "execution_count": 48,
   "id": "d5ce7d34-f866-4fbf-80d3-3e117fdfdba5",
   "metadata": {},
   "outputs": [],
   "source": [
    "raw_data.fillna(0, inplace=True)"
   ]
  },
  {
   "cell_type": "code",
   "execution_count": 49,
   "id": "bafbec74-f2ba-4d6b-b95a-ea14b411d74f",
   "metadata": {},
   "outputs": [
    {
     "name": "stdout",
     "output_type": "stream",
     "text": [
      "               OPEN     HIGH      LOW    CLOSE   VOLUME  histogram  side  \\\n",
      "Date                                                                       \n",
      "2016-01-04  2037.75  2043.50  1980.25  2009.00  2216549   0.000000   0.0   \n",
      "2016-01-04  2037.75  2043.50  1980.25  2009.00  2216549   0.000000   0.0   \n",
      "2016-01-05  2009.00  2017.00  1992.25  2011.75  1688974   0.175499   1.0   \n",
      "2016-01-06  2010.75  2013.25  1970.50  1986.00  2237518  -1.367407   1.0   \n",
      "2016-01-07  1987.75  1991.00  1928.50  1933.00  2969295  -5.642408  -1.0   \n",
      "...             ...      ...      ...      ...      ...        ...   ...   \n",
      "2023-03-09  3997.00  4019.75  3909.50  3920.00  2547423 -11.265469  -1.0   \n",
      "2023-03-10  3919.00  3941.75  3846.25  3862.75  3285811 -16.734070  -1.0   \n",
      "2023-03-13  3887.75  3938.75  3808.75  3856.75  2750477 -19.549830  -1.0   \n",
      "2023-03-14  3865.75  3938.00  3855.25  3920.50  1606509 -16.059395  -1.0   \n",
      "2023-03-15  3920.50  3931.00  3834.00  3892.75   833643 -14.602047  -1.0   \n",
      "\n",
      "             log_ret       ret  trend_tvalue  ...    log_t2    log_t3  \\\n",
      "Date                                          ...                       \n",
      "2016-01-04  0.000000  0.000000      0.000000  ...  0.000000  0.000000   \n",
      "2016-01-04  0.000000  0.000000      0.000000  ...  0.000000  0.000000   \n",
      "2016-01-05  0.001368  0.000000      0.000000  ...  0.000000  0.000000   \n",
      "2016-01-06 -0.012882  0.001368      0.000000  ...  0.000000  0.000000   \n",
      "2016-01-07 -0.027049 -0.012882      0.000000  ...  0.001368  0.000000   \n",
      "...              ...       ...           ...  ...       ...       ...   \n",
      "2023-03-09 -0.018952 -0.001315     -5.058304  ... -0.015605  0.000679   \n",
      "2023-03-10 -0.014712  0.018952     -6.436892  ...  0.001315 -0.015605   \n",
      "2023-03-13 -0.001555  0.014712     -6.269170  ... -0.018952  0.001315   \n",
      "2023-03-14  0.016394  0.001555     -5.844185  ... -0.014712 -0.018952   \n",
      "2023-03-15 -0.007103 -0.016394     -5.590101  ... -0.001555 -0.014712   \n",
      "\n",
      "              log_t5  parkinson_sinclair  parkinson_deprado  \\\n",
      "Date                                                          \n",
      "2016-01-04  0.000000            0.000000           0.000000   \n",
      "2016-01-04  0.000000            0.000000           0.000000   \n",
      "2016-01-05  0.000000            0.000000           0.000000   \n",
      "2016-01-06  0.000000            0.000000           0.000000   \n",
      "2016-01-07  0.000000            0.000000           0.000000   \n",
      "...              ...                 ...                ...   \n",
      "2023-03-09  0.007115            0.010046           0.017478   \n",
      "2023-03-10  0.016181            0.010152           0.041309   \n",
      "2023-03-13  0.000679            0.010878           0.025424   \n",
      "2023-03-14 -0.015605            0.010842           0.023418   \n",
      "2023-03-15  0.001315            0.011222           0.012696   \n",
      "\n",
      "            garman_klass_volatility  rogers_satchell_volatility  \\\n",
      "Date                                                              \n",
      "2016-01-04                 0.000000                    0.000000   \n",
      "2016-01-04                 0.000000                    0.000000   \n",
      "2016-01-05                 0.000000                    0.000000   \n",
      "2016-01-06                 0.000000                    0.000000   \n",
      "2016-01-07                 0.000000                    0.000000   \n",
      "...                             ...                         ...   \n",
      "2023-03-09                 0.010036                    0.010058   \n",
      "2023-03-10                 0.010132                    0.010008   \n",
      "2023-03-13                 0.011218                    0.011058   \n",
      "2023-03-14                 0.011029                    0.011085   \n",
      "2023-03-15                 0.011508                    0.011453   \n",
      "\n",
      "            corwin_shultz_volatility  cho_frees_volatility  \\\n",
      "Date                                                         \n",
      "2016-01-04                       0.0              0.000000   \n",
      "2016-01-04                       0.0              0.000000   \n",
      "2016-01-05                       0.0              0.000000   \n",
      "2016-01-06                       0.0              0.000891   \n",
      "2016-01-07                       0.0              0.000223   \n",
      "...                              ...                   ...   \n",
      "2023-03-09                       0.0              0.000382   \n",
      "2023-03-10                       0.0              0.000000   \n",
      "2023-03-13                       0.0              0.000381   \n",
      "2023-03-14                       0.0              0.000382   \n",
      "2023-03-15                       0.0              0.000000   \n",
      "\n",
      "            first_exit_times_volatility  \n",
      "Date                                     \n",
      "2016-01-04                     0.000000  \n",
      "2016-01-04                     0.000000  \n",
      "2016-01-05                     0.000000  \n",
      "2016-01-06                     0.000000  \n",
      "2016-01-07                     0.000000  \n",
      "...                                 ...  \n",
      "2023-03-09                     0.005843  \n",
      "2023-03-10                     0.000000  \n",
      "2023-03-13                     0.005938  \n",
      "2023-03-14                     0.006038  \n",
      "2023-03-15                     0.000000  \n",
      "\n",
      "[1815 rows x 128 columns]\n"
     ]
    }
   ],
   "source": [
    "print(raw_data)"
   ]
  },
  {
   "cell_type": "code",
   "execution_count": 50,
   "id": "9d4378ba",
   "metadata": {},
   "outputs": [],
   "source": [
    "rics = [\n",
    "    'ESc1',\n",
    "    'TYc1',\n",
    "    'VXc1',\n",
    "    'NQc1',\n",
    "    'HYc1',\n",
    "    '.DXY',\n",
    "    'GCc1',\n",
    "    'CLc1',\n",
    "    '.IBXXIBHY',\n",
    "    '.STOXX50E',\n",
    "    'XLP',\n",
    "    'XLY',\n",
    "    '.VIX',\n",
    "    'VBR',\n",
    "    'GSLC.K',\n",
    "    'SDAZ3',\n",
    "    'SDAZ24',\n",
    "    'FFcm1',\n",
    "    '.IBXXIBIG',\n",
    "    '.SKEWX',\n",
    "    '.BCOM',\n",
    "    '.RXM',\n",
    "    '.MOVE',\n",
    "    '.VVIX',\n",
    "    '.VSTG',\n",
    "    '.SPRP10GT',\n",
    "    '.SPSGMITR',\n",
    "    '.SPRPRVP',\n",
    "    '.SPECFRLS',\n",
    "    '.SPRPRCP',\n",
    "    '.SPECFRP',\n",
    "    '.SPECFR6P',\n",
    "    '.SPXDPU1',\n",
    "    '.RTOE.U',\n",
    "    '.NEIXCTA',\n",
    "    '.dMIUS0000PP',\n",
    "    '.dMIUS0000JP',\n",
    "    '.dMIUS0000OPUS',\n",
    "    '.dMIUS0000IPUS',\n",
    "    '.dMIUS0000NPUS',\n",
    "    '.EHI474',\n",
    "    '.TRIFTUSPLUT',\n",
    "    '.FTFTUSPSUT',\n",
    "    '.FTJQUA',\n",
    "    '.FTJVAL',\n",
    "    '.FTJMOM',\n",
    "    '.FTJMIN',\n",
    "    '.SPHYDA',\n",
    "    '.NQBUY',\n",
    "    '.SGIXSENT',\n",
    "    '.VIX3M',\n",
    "    '.WTEPS',\n",
    "    'VQLc1',\n",
    "    '.FTSE',\n",
    "    'IDEV.K',\n",
    "    '.HSI',\n",
    "    'EEM'\n",
    "]\n",
    "\n"
   ]
  },
  {
   "cell_type": "code",
   "execution_count": 51,
   "id": "42323972",
   "metadata": {},
   "outputs": [
    {
     "name": "stderr",
     "output_type": "stream",
     "text": [
      "2023-04-23 18:57:47,323 P[21888] [MainThread 20508] Error with SDAZ3: No data available for the requested date range\n",
      "2023-04-23 18:57:47,324 P[21888] [MainThread 20508] Error with SDAZ24: No data available for the requested date range\n",
      "2023-04-23 18:57:47,325 P[21888] [MainThread 20508] Error with .TRIFTUSPLUT: No data available for the requested date range\n",
      "2023-04-23 18:57:47,325 P[21888] [MainThread 20508] Error with .FTFTUSPSUT: No data available for the requested date range\n",
      "2023-04-23 18:57:47,326 P[21888] [MainThread 20508] Error with .FTJQUA: No data available for the requested date range\n",
      "2023-04-23 18:57:47,327 P[21888] [MainThread 20508] Error with .FTJVAL: No data available for the requested date range\n",
      "2023-04-23 18:57:47,327 P[21888] [MainThread 20508] Error with .FTJMOM: No data available for the requested date range\n",
      "2023-04-23 18:57:47,328 P[21888] [MainThread 20508] Error with .FTJMIN: No data available for the requested date range\n",
      "2023-04-23 18:57:47,328 P[21888] [MainThread 20508] Error with VQLc1: No data available for the requested date range\n",
      "2023-04-23 18:57:47,329 P[21888] [MainThread 20508] Error with IDEV.K: No data available for the requested date range\n"
     ]
    },
    {
     "data": {
      "text/html": [
       "<div>\n",
       "<style scoped>\n",
       "    .dataframe tbody tr th:only-of-type {\n",
       "        vertical-align: middle;\n",
       "    }\n",
       "\n",
       "    .dataframe tbody tr th {\n",
       "        vertical-align: top;\n",
       "    }\n",
       "\n",
       "    .dataframe thead th {\n",
       "        text-align: right;\n",
       "    }\n",
       "</style>\n",
       "<table border=\"1\" class=\"dataframe\">\n",
       "  <thead>\n",
       "    <tr style=\"text-align: right;\">\n",
       "      <th>CLOSE</th>\n",
       "      <th>ESc1</th>\n",
       "      <th>TYc1</th>\n",
       "      <th>VXc1</th>\n",
       "      <th>NQc1</th>\n",
       "      <th>HYc1</th>\n",
       "      <th>.DXY</th>\n",
       "      <th>GCc1</th>\n",
       "      <th>CLc1</th>\n",
       "      <th>.IBXXIBHY</th>\n",
       "      <th>.STOXX50E</th>\n",
       "      <th>...</th>\n",
       "      <th>.dMIUS0000NPUS</th>\n",
       "      <th>.EHI474</th>\n",
       "      <th>.SPHYDA</th>\n",
       "      <th>.NQBUY</th>\n",
       "      <th>.SGIXSENT</th>\n",
       "      <th>.VIX3M</th>\n",
       "      <th>.WTEPS</th>\n",
       "      <th>.FTSE</th>\n",
       "      <th>.HSI</th>\n",
       "      <th>EEM</th>\n",
       "    </tr>\n",
       "    <tr>\n",
       "      <th>Date</th>\n",
       "      <th></th>\n",
       "      <th></th>\n",
       "      <th></th>\n",
       "      <th></th>\n",
       "      <th></th>\n",
       "      <th></th>\n",
       "      <th></th>\n",
       "      <th></th>\n",
       "      <th></th>\n",
       "      <th></th>\n",
       "      <th></th>\n",
       "      <th></th>\n",
       "      <th></th>\n",
       "      <th></th>\n",
       "      <th></th>\n",
       "      <th></th>\n",
       "      <th></th>\n",
       "      <th></th>\n",
       "      <th></th>\n",
       "      <th></th>\n",
       "      <th></th>\n",
       "    </tr>\n",
       "  </thead>\n",
       "  <tbody>\n",
       "    <tr>\n",
       "      <th>2017-01-02</th>\n",
       "      <td>NaN</td>\n",
       "      <td>NaN</td>\n",
       "      <td>NaN</td>\n",
       "      <td>NaN</td>\n",
       "      <td>NaN</td>\n",
       "      <td>102.83</td>\n",
       "      <td>NaN</td>\n",
       "      <td>NaN</td>\n",
       "      <td>NaN</td>\n",
       "      <td>3308.67</td>\n",
       "      <td>...</td>\n",
       "      <td>2649.302</td>\n",
       "      <td>NaN</td>\n",
       "      <td>NaN</td>\n",
       "      <td>NaN</td>\n",
       "      <td>NaN</td>\n",
       "      <td>NaN</td>\n",
       "      <td>313.65</td>\n",
       "      <td>NaN</td>\n",
       "      <td>NaN</td>\n",
       "      <td>NaN</td>\n",
       "    </tr>\n",
       "    <tr>\n",
       "      <th>2017-01-03</th>\n",
       "      <td>2252.50</td>\n",
       "      <td>124.109375</td>\n",
       "      <td>13.775</td>\n",
       "      <td>4906.25</td>\n",
       "      <td>87.42</td>\n",
       "      <td>103.21</td>\n",
       "      <td>1160.4</td>\n",
       "      <td>52.33</td>\n",
       "      <td>116.296256</td>\n",
       "      <td>3315.02</td>\n",
       "      <td>...</td>\n",
       "      <td>2661.110</td>\n",
       "      <td>NaN</td>\n",
       "      <td>2822.55</td>\n",
       "      <td>993.70</td>\n",
       "      <td>288.86</td>\n",
       "      <td>15.56</td>\n",
       "      <td>316.33</td>\n",
       "      <td>7177.89</td>\n",
       "      <td>22150.40</td>\n",
       "      <td>35.217562</td>\n",
       "    </tr>\n",
       "    <tr>\n",
       "      <th>2017-01-04</th>\n",
       "      <td>2264.25</td>\n",
       "      <td>124.109375</td>\n",
       "      <td>13.175</td>\n",
       "      <td>4933.50</td>\n",
       "      <td>88.15</td>\n",
       "      <td>102.70</td>\n",
       "      <td>1163.8</td>\n",
       "      <td>53.26</td>\n",
       "      <td>116.715608</td>\n",
       "      <td>3317.52</td>\n",
       "      <td>...</td>\n",
       "      <td>2675.904</td>\n",
       "      <td>NaN</td>\n",
       "      <td>2847.71</td>\n",
       "      <td>1003.81</td>\n",
       "      <td>289.55</td>\n",
       "      <td>14.84</td>\n",
       "      <td>318.57</td>\n",
       "      <td>7189.74</td>\n",
       "      <td>22134.47</td>\n",
       "      <td>35.485943</td>\n",
       "    </tr>\n",
       "    <tr>\n",
       "      <th>2017-01-05</th>\n",
       "      <td>2264.25</td>\n",
       "      <td>124.828125</td>\n",
       "      <td>13.025</td>\n",
       "      <td>4962.00</td>\n",
       "      <td>87.15</td>\n",
       "      <td>101.52</td>\n",
       "      <td>1179.7</td>\n",
       "      <td>53.76</td>\n",
       "      <td>116.989973</td>\n",
       "      <td>3316.47</td>\n",
       "      <td>...</td>\n",
       "      <td>2674.593</td>\n",
       "      <td>NaN</td>\n",
       "      <td>2838.01</td>\n",
       "      <td>1005.25</td>\n",
       "      <td>290.09</td>\n",
       "      <td>14.70</td>\n",
       "      <td>317.65</td>\n",
       "      <td>7195.31</td>\n",
       "      <td>22456.69</td>\n",
       "      <td>35.873604</td>\n",
       "    </tr>\n",
       "    <tr>\n",
       "      <th>2017-01-06</th>\n",
       "      <td>2271.50</td>\n",
       "      <td>124.406250</td>\n",
       "      <td>12.875</td>\n",
       "      <td>5004.00</td>\n",
       "      <td>88.23</td>\n",
       "      <td>102.22</td>\n",
       "      <td>1171.9</td>\n",
       "      <td>53.99</td>\n",
       "      <td>117.059031</td>\n",
       "      <td>3321.17</td>\n",
       "      <td>...</td>\n",
       "      <td>2681.643</td>\n",
       "      <td>NaN</td>\n",
       "      <td>2839.72</td>\n",
       "      <td>1007.13</td>\n",
       "      <td>290.30</td>\n",
       "      <td>14.56</td>\n",
       "      <td>318.33</td>\n",
       "      <td>7210.05</td>\n",
       "      <td>22503.01</td>\n",
       "      <td>35.724504</td>\n",
       "    </tr>\n",
       "  </tbody>\n",
       "</table>\n",
       "<p>5 rows × 47 columns</p>\n",
       "</div>"
      ],
      "text/plain": [
       "CLOSE          ESc1        TYc1    VXc1     NQc1   HYc1    .DXY    GCc1  \\\n",
       "Date                                                                      \n",
       "2017-01-02      NaN         NaN     NaN      NaN    NaN  102.83     NaN   \n",
       "2017-01-03  2252.50  124.109375  13.775  4906.25  87.42  103.21  1160.4   \n",
       "2017-01-04  2264.25  124.109375  13.175  4933.50  88.15  102.70  1163.8   \n",
       "2017-01-05  2264.25  124.828125  13.025  4962.00  87.15  101.52  1179.7   \n",
       "2017-01-06  2271.50  124.406250  12.875  5004.00  88.23  102.22  1171.9   \n",
       "\n",
       "CLOSE        CLc1   .IBXXIBHY  .STOXX50E  ...  .dMIUS0000NPUS  .EHI474  \\\n",
       "Date                                      ...                            \n",
       "2017-01-02    NaN         NaN    3308.67  ...        2649.302      NaN   \n",
       "2017-01-03  52.33  116.296256    3315.02  ...        2661.110      NaN   \n",
       "2017-01-04  53.26  116.715608    3317.52  ...        2675.904      NaN   \n",
       "2017-01-05  53.76  116.989973    3316.47  ...        2674.593      NaN   \n",
       "2017-01-06  53.99  117.059031    3321.17  ...        2681.643      NaN   \n",
       "\n",
       "CLOSE       .SPHYDA   .NQBUY  .SGIXSENT  .VIX3M  .WTEPS    .FTSE      .HSI  \\\n",
       "Date                                                                         \n",
       "2017-01-02      NaN      NaN        NaN     NaN  313.65      NaN       NaN   \n",
       "2017-01-03  2822.55   993.70     288.86   15.56  316.33  7177.89  22150.40   \n",
       "2017-01-04  2847.71  1003.81     289.55   14.84  318.57  7189.74  22134.47   \n",
       "2017-01-05  2838.01  1005.25     290.09   14.70  317.65  7195.31  22456.69   \n",
       "2017-01-06  2839.72  1007.13     290.30   14.56  318.33  7210.05  22503.01   \n",
       "\n",
       "CLOSE             EEM  \n",
       "Date                   \n",
       "2017-01-02        NaN  \n",
       "2017-01-03  35.217562  \n",
       "2017-01-04  35.485943  \n",
       "2017-01-05  35.873604  \n",
       "2017-01-06  35.724504  \n",
       "\n",
       "[5 rows x 47 columns]"
      ]
     },
     "execution_count": 51,
     "metadata": {},
     "output_type": "execute_result"
    }
   ],
   "source": [
    "Ricsdata2017 = ek.get_timeseries(rics,\n",
    "                                start_date='2017-01-01',\n",
    "                                end_date='2017-03-01',\n",
    "                                fields='CLOSE',\n",
    "                                interval='daily')\n",
    "Ricsdata2017.head()"
   ]
  },
  {
   "cell_type": "code",
   "execution_count": 52,
   "id": "b9ca42aa",
   "metadata": {},
   "outputs": [
    {
     "name": "stderr",
     "output_type": "stream",
     "text": [
      "2023-04-23 18:57:47,887 P[21888] [MainThread 20508] Error with SDAZ3: No data available for the requested date range\n",
      "2023-04-23 18:57:47,888 P[21888] [MainThread 20508] Error with SDAZ24: No data available for the requested date range\n",
      "2023-04-23 18:57:47,888 P[21888] [MainThread 20508] Error with .TRIFTUSPLUT: No data available for the requested date range\n",
      "2023-04-23 18:57:47,889 P[21888] [MainThread 20508] Error with .FTFTUSPSUT: No data available for the requested date range\n",
      "2023-04-23 18:57:47,889 P[21888] [MainThread 20508] Error with .FTJQUA: No data available for the requested date range\n",
      "2023-04-23 18:57:47,890 P[21888] [MainThread 20508] Error with .FTJVAL: No data available for the requested date range\n",
      "2023-04-23 18:57:47,890 P[21888] [MainThread 20508] Error with .FTJMOM: No data available for the requested date range\n",
      "2023-04-23 18:57:47,892 P[21888] [MainThread 20508] Error with .FTJMIN: No data available for the requested date range\n",
      "2023-04-23 18:57:47,893 P[21888] [MainThread 20508] Error with VQLc1: No data available for the requested date range\n"
     ]
    }
   ],
   "source": [
    "Ricsdata2017_1 = ek.get_timeseries(rics,\n",
    "                                start_date='2017-04-02',\n",
    "                                end_date='2017-6-01',\n",
    "                                fields='CLOSE',\n",
    "                                interval='daily')"
   ]
  },
  {
   "cell_type": "code",
   "execution_count": 53,
   "id": "16221f2a",
   "metadata": {},
   "outputs": [
    {
     "name": "stderr",
     "output_type": "stream",
     "text": [
      "2023-04-23 18:57:48,410 P[21888] [MainThread 20508] Error with SDAZ3: No data available for the requested date range\n",
      "2023-04-23 18:57:48,410 P[21888] [MainThread 20508] Error with SDAZ24: No data available for the requested date range\n",
      "2023-04-23 18:57:48,411 P[21888] [MainThread 20508] Error with .FTFTUSPSUT: No data available for the requested date range\n",
      "2023-04-23 18:57:48,412 P[21888] [MainThread 20508] Error with .FTJQUA: No data available for the requested date range\n",
      "2023-04-23 18:57:48,413 P[21888] [MainThread 20508] Error with .FTJVAL: No data available for the requested date range\n",
      "2023-04-23 18:57:48,414 P[21888] [MainThread 20508] Error with .FTJMOM: No data available for the requested date range\n",
      "2023-04-23 18:57:48,414 P[21888] [MainThread 20508] Error with .FTJMIN: No data available for the requested date range\n",
      "2023-04-23 18:57:48,415 P[21888] [MainThread 20508] Error with VQLc1: No data available for the requested date range\n"
     ]
    }
   ],
   "source": [
    "Ricsdata2017_2 = ek.get_timeseries(rics,\n",
    "                                start_date='2017-06-02',\n",
    "                                end_date='2017-08-01',\n",
    "                                fields='CLOSE',\n",
    "                                interval='daily')\n"
   ]
  },
  {
   "cell_type": "code",
   "execution_count": 54,
   "id": "4b0a90d5",
   "metadata": {},
   "outputs": [
    {
     "name": "stderr",
     "output_type": "stream",
     "text": [
      "2023-04-23 18:57:48,864 P[21888] [MainThread 20508] Error with .FTFTUSPSUT: No data available for the requested date range\n",
      "2023-04-23 18:57:48,864 P[21888] [MainThread 20508] Error with .FTJQUA: No data available for the requested date range\n",
      "2023-04-23 18:57:48,865 P[21888] [MainThread 20508] Error with .FTJVAL: No data available for the requested date range\n",
      "2023-04-23 18:57:48,866 P[21888] [MainThread 20508] Error with .FTJMOM: No data available for the requested date range\n",
      "2023-04-23 18:57:48,867 P[21888] [MainThread 20508] Error with .FTJMIN: No data available for the requested date range\n",
      "2023-04-23 18:57:48,867 P[21888] [MainThread 20508] Error with VQLc1: No data available for the requested date range\n"
     ]
    }
   ],
   "source": [
    "Ricsdata2017_3 = ek.get_timeseries(rics,\n",
    "                                start_date='2017-08-02',\n",
    "                                end_date='2017-09-30',\n",
    "                                fields='CLOSE',\n",
    "                                interval='daily')\n"
   ]
  },
  {
   "cell_type": "code",
   "execution_count": 55,
   "id": "4b5f592a",
   "metadata": {},
   "outputs": [
    {
     "name": "stderr",
     "output_type": "stream",
     "text": [
      "2023-04-23 18:57:49,427 P[21888] [MainThread 20508] Error with .FTFTUSPSUT: No data available for the requested date range\n",
      "2023-04-23 18:57:49,428 P[21888] [MainThread 20508] Error with VQLc1: No data available for the requested date range\n"
     ]
    }
   ],
   "source": [
    "Ricsdata2017_4 = ek.get_timeseries(rics,\n",
    "                                start_date='2017-10-01',\n",
    "                                end_date='2017-11-30',\n",
    "                                fields='CLOSE',\n",
    "                                interval='daily')\n"
   ]
  },
  {
   "cell_type": "code",
   "execution_count": 56,
   "id": "e5ea7319",
   "metadata": {},
   "outputs": [
    {
     "name": "stderr",
     "output_type": "stream",
     "text": [
      "2023-04-23 18:57:50,060 P[21888] [MainThread 20508] Error with .FTFTUSPSUT: No data available for the requested date range\n",
      "2023-04-23 18:57:50,061 P[21888] [MainThread 20508] Error with VQLc1: No data available for the requested date range\n"
     ]
    }
   ],
   "source": [
    "Ricsdata2017_5 = ek.get_timeseries(rics,\n",
    "                                start_date='2017-10-01',\n",
    "                                end_date='2017-12-31',\n",
    "                                fields='CLOSE',\n",
    "                                interval='daily')\n"
   ]
  },
  {
   "cell_type": "code",
   "execution_count": 57,
   "id": "d7eaeae3",
   "metadata": {},
   "outputs": [
    {
     "name": "stderr",
     "output_type": "stream",
     "text": [
      "2023-04-23 18:57:50,450 P[21888] [MainThread 20508] Error with .FTFTUSPSUT: No data available for the requested date range\n",
      "2023-04-23 18:57:50,451 P[21888] [MainThread 20508] Error with VQLc1: No data available for the requested date range\n"
     ]
    }
   ],
   "source": [
    "Ricsdata2018 = ek.get_timeseries(rics,\n",
    "                                start_date='2018-01-01',\n",
    "                                end_date='2018-03-01',\n",
    "                                fields='CLOSE',\n",
    "                                interval='daily')\n"
   ]
  },
  {
   "cell_type": "code",
   "execution_count": 58,
   "id": "82aa5cc6",
   "metadata": {},
   "outputs": [
    {
     "name": "stderr",
     "output_type": "stream",
     "text": [
      "2023-04-23 18:57:50,840 P[21888] [MainThread 20508] Error with .FTFTUSPSUT: No data available for the requested date range\n",
      "2023-04-23 18:57:50,841 P[21888] [MainThread 20508] Error with VQLc1: No data available for the requested date range\n"
     ]
    }
   ],
   "source": [
    "Ricsdata2018_1 = ek.get_timeseries(rics,\n",
    "                                start_date='2018-04-02',\n",
    "                                end_date='2018-6-01',\n",
    "                                fields='CLOSE',\n",
    "                                interval='daily')\n"
   ]
  },
  {
   "cell_type": "code",
   "execution_count": 59,
   "id": "23ae4fc8",
   "metadata": {},
   "outputs": [
    {
     "name": "stderr",
     "output_type": "stream",
     "text": [
      "2023-04-23 18:57:51,230 P[21888] [MainThread 20508] Error with .FTFTUSPSUT: No data available for the requested date range\n",
      "2023-04-23 18:57:51,231 P[21888] [MainThread 20508] Error with VQLc1: No data available for the requested date range\n"
     ]
    }
   ],
   "source": [
    "Ricsdata2018_2 = ek.get_timeseries(rics,\n",
    "                                start_date='2018-06-02',\n",
    "                                end_date='2018-08-01',\n",
    "                                fields='CLOSE',\n",
    "                                interval='daily')\n"
   ]
  },
  {
   "cell_type": "code",
   "execution_count": 60,
   "id": "df499de7",
   "metadata": {},
   "outputs": [
    {
     "name": "stderr",
     "output_type": "stream",
     "text": [
      "2023-04-23 18:57:51,622 P[21888] [MainThread 20508] Error with .FTFTUSPSUT: No data available for the requested date range\n",
      "2023-04-23 18:57:51,622 P[21888] [MainThread 20508] Error with VQLc1: No data available for the requested date range\n"
     ]
    }
   ],
   "source": [
    "Ricsdata2018_3 = ek.get_timeseries(rics,\n",
    "                                start_date='2018-08-02',\n",
    "                                end_date='2018-09-30',\n",
    "                                fields='CLOSE',\n",
    "                                interval='daily')"
   ]
  },
  {
   "cell_type": "code",
   "execution_count": 61,
   "id": "b88dd611",
   "metadata": {},
   "outputs": [
    {
     "name": "stderr",
     "output_type": "stream",
     "text": [
      "2023-04-23 18:57:52,008 P[21888] [MainThread 20508] Error with .FTFTUSPSUT: No data available for the requested date range\n",
      "2023-04-23 18:57:52,008 P[21888] [MainThread 20508] Error with VQLc1: No data available for the requested date range\n"
     ]
    }
   ],
   "source": [
    "Ricsdata2018_4 = ek.get_timeseries(rics,\n",
    "                                start_date='2018-10-01',\n",
    "                                end_date='2018-11-30',\n",
    "                                fields='CLOSE',\n",
    "                                interval='daily')"
   ]
  },
  {
   "cell_type": "code",
   "execution_count": 62,
   "id": "49a562fc",
   "metadata": {},
   "outputs": [
    {
     "name": "stderr",
     "output_type": "stream",
     "text": [
      "2023-04-23 18:57:52,401 P[21888] [MainThread 20508] Error with .FTFTUSPSUT: No data available for the requested date range\n",
      "2023-04-23 18:57:52,402 P[21888] [MainThread 20508] Error with VQLc1: No data available for the requested date range\n"
     ]
    }
   ],
   "source": [
    "Ricsdata2018_5 = ek.get_timeseries(rics,\n",
    "                                start_date='2018-10-01',\n",
    "                                end_date='2018-12-31',\n",
    "                                fields='CLOSE',\n",
    "                                interval='daily')"
   ]
  },
  {
   "cell_type": "code",
   "execution_count": 63,
   "id": "057e9c97",
   "metadata": {},
   "outputs": [
    {
     "name": "stderr",
     "output_type": "stream",
     "text": [
      "2023-04-23 18:57:52,954 P[21888] [MainThread 20508] Error with .FTFTUSPSUT: No data available for the requested date range\n",
      "2023-04-23 18:57:52,955 P[21888] [MainThread 20508] Error with VQLc1: No data available for the requested date range\n"
     ]
    }
   ],
   "source": [
    "Ricsdata2019 = ek.get_timeseries(rics,\n",
    "                                start_date='2019-01-01',\n",
    "                                end_date='2019-03-01',\n",
    "                                fields='CLOSE',\n",
    "                                interval='daily')"
   ]
  },
  {
   "cell_type": "code",
   "execution_count": 64,
   "id": "9d8b1469",
   "metadata": {},
   "outputs": [
    {
     "name": "stderr",
     "output_type": "stream",
     "text": [
      "2023-04-23 18:57:53,293 P[21888] [MainThread 20508] Error with .FTFTUSPSUT: No data available for the requested date range\n",
      "2023-04-23 18:57:53,294 P[21888] [MainThread 20508] Error with VQLc1: No data available for the requested date range\n"
     ]
    }
   ],
   "source": [
    "Ricsdata2019_1 = ek.get_timeseries(rics,\n",
    "                                start_date='2019-04-02',\n",
    "                                end_date='2019-6-01',\n",
    "                                fields='CLOSE',\n",
    "                                interval='daily')"
   ]
  },
  {
   "cell_type": "code",
   "execution_count": 65,
   "id": "c5f67337",
   "metadata": {},
   "outputs": [
    {
     "name": "stderr",
     "output_type": "stream",
     "text": [
      "2023-04-23 18:57:53,637 P[21888] [MainThread 20508] Error with .FTFTUSPSUT: No data available for the requested date range\n",
      "2023-04-23 18:57:53,638 P[21888] [MainThread 20508] Error with VQLc1: No data available for the requested date range\n"
     ]
    }
   ],
   "source": [
    "Ricsdata2019_2 = ek.get_timeseries(rics,\n",
    "                                start_date='2019-06-02',\n",
    "                                end_date='2019-08-01',\n",
    "                                fields='CLOSE',\n",
    "                                interval='daily')"
   ]
  },
  {
   "cell_type": "code",
   "execution_count": 66,
   "id": "537a7c85",
   "metadata": {},
   "outputs": [
    {
     "name": "stderr",
     "output_type": "stream",
     "text": [
      "2023-04-23 18:57:53,973 P[21888] [MainThread 20508] Error with .FTFTUSPSUT: No data available for the requested date range\n",
      "2023-04-23 18:57:53,974 P[21888] [MainThread 20508] Error with VQLc1: No data available for the requested date range\n"
     ]
    }
   ],
   "source": [
    "Ricsdata2019_3 = ek.get_timeseries(rics,\n",
    "                                start_date='2019-08-02',\n",
    "                                end_date='2019-09-30',\n",
    "                                fields='CLOSE',\n",
    "                                interval='daily')"
   ]
  },
  {
   "cell_type": "code",
   "execution_count": 67,
   "id": "0789bbe9",
   "metadata": {},
   "outputs": [
    {
     "name": "stderr",
     "output_type": "stream",
     "text": [
      "2023-04-23 18:57:54,279 P[21888] [MainThread 20508] Error with .FTFTUSPSUT: No data available for the requested date range\n",
      "2023-04-23 18:57:54,279 P[21888] [MainThread 20508] Error with VQLc1: No data available for the requested date range\n"
     ]
    }
   ],
   "source": [
    "Ricsdata2019_4 = ek.get_timeseries(rics,\n",
    "                                start_date='2019-10-01',\n",
    "                                end_date='2019-11-30',\n",
    "                                fields='CLOSE',\n",
    "                                interval='daily')"
   ]
  },
  {
   "cell_type": "code",
   "execution_count": 68,
   "id": "b0cd37dd",
   "metadata": {},
   "outputs": [
    {
     "name": "stderr",
     "output_type": "stream",
     "text": [
      "2023-04-23 18:57:54,643 P[21888] [MainThread 20508] Error with .FTFTUSPSUT: No data available for the requested date range\n",
      "2023-04-23 18:57:54,645 P[21888] [MainThread 20508] Error with VQLc1: No data available for the requested date range\n"
     ]
    }
   ],
   "source": [
    "Ricsdata2019_5 = ek.get_timeseries(rics,\n",
    "                                start_date='2019-10-01',\n",
    "                                end_date='2019-12-31',\n",
    "                                fields='CLOSE',\n",
    "                                interval='daily')"
   ]
  },
  {
   "cell_type": "code",
   "execution_count": 69,
   "id": "b8d03103",
   "metadata": {},
   "outputs": [
    {
     "name": "stderr",
     "output_type": "stream",
     "text": [
      "2023-04-23 18:57:55,033 P[21888] [MainThread 20508] Error with .FTFTUSPSUT: No data available for the requested date range\n",
      "2023-04-23 18:57:55,034 P[21888] [MainThread 20508] Error with VQLc1: No data available for the requested date range\n"
     ]
    }
   ],
   "source": [
    "Ricsdata2020_1 = ek.get_timeseries(rics,\n",
    "                                start_date='2020-01-01',\n",
    "                                end_date='2020-02-28',\n",
    "                                fields='CLOSE',\n",
    "                                interval='daily')"
   ]
  },
  {
   "cell_type": "code",
   "execution_count": 70,
   "id": "775935c5",
   "metadata": {},
   "outputs": [
    {
     "name": "stderr",
     "output_type": "stream",
     "text": [
      "2023-04-23 18:57:55,378 P[21888] [MainThread 20508] Error with .FTFTUSPSUT: No data available for the requested date range\n",
      "2023-04-23 18:57:55,378 P[21888] [MainThread 20508] Error with VQLc1: No data available for the requested date range\n"
     ]
    }
   ],
   "source": [
    "Ricsdata2020_2 = ek.get_timeseries(rics,\n",
    "                                start_date='2020-03-01',\n",
    "                                end_date='2020-04-30',\n",
    "                                fields='CLOSE',\n",
    "                                interval='daily')"
   ]
  },
  {
   "cell_type": "code",
   "execution_count": 71,
   "id": "89c1cd16",
   "metadata": {},
   "outputs": [
    {
     "name": "stderr",
     "output_type": "stream",
     "text": [
      "2023-04-23 18:57:55,812 P[21888] [MainThread 20508] Error with .SPECFRLS: No data available for the requested date range\n",
      "2023-04-23 18:57:55,813 P[21888] [MainThread 20508] Error with .FTFTUSPSUT: No data available for the requested date range\n",
      "2023-04-23 18:57:55,813 P[21888] [MainThread 20508] Error with VQLc1: No data available for the requested date range\n"
     ]
    }
   ],
   "source": [
    "Ricsdata2020_3 = ek.get_timeseries(rics,\n",
    "                                start_date='2020-05-01',\n",
    "                                end_date='2020-06-30',\n",
    "                                fields='CLOSE',\n",
    "                                interval='daily')"
   ]
  },
  {
   "cell_type": "code",
   "execution_count": 72,
   "id": "fd68f7a3",
   "metadata": {},
   "outputs": [
    {
     "name": "stderr",
     "output_type": "stream",
     "text": [
      "2023-04-23 18:57:56,235 P[21888] [MainThread 20508] Error with .FTFTUSPSUT: No data available for the requested date range\n",
      "2023-04-23 18:57:56,235 P[21888] [MainThread 20508] Error with VQLc1: No data available for the requested date range\n"
     ]
    }
   ],
   "source": [
    "Ricsdata2020_4 = ek.get_timeseries(rics,\n",
    "                                start_date='2020-07-01',\n",
    "                                end_date='2020-08-30',\n",
    "                                fields='CLOSE',\n",
    "                                interval='daily')"
   ]
  },
  {
   "cell_type": "code",
   "execution_count": 73,
   "id": "9be30c82",
   "metadata": {},
   "outputs": [
    {
     "name": "stderr",
     "output_type": "stream",
     "text": [
      "2023-04-23 18:57:56,631 P[21888] [MainThread 20508] Error with .FTFTUSPSUT: No data available for the requested date range\n"
     ]
    }
   ],
   "source": [
    "Ricsdata2020_5 = ek.get_timeseries(rics,\n",
    "                                start_date='2020-09-01',\n",
    "                                end_date='2020-10-30',\n",
    "                                fields='CLOSE',\n",
    "                                interval='daily')"
   ]
  },
  {
   "cell_type": "code",
   "execution_count": 74,
   "id": "8f10d43e",
   "metadata": {},
   "outputs": [
    {
     "name": "stderr",
     "output_type": "stream",
     "text": [
      "2023-04-23 18:57:57,201 P[21888] [MainThread 20508] Error with .FTFTUSPSUT: No data available for the requested date range\n"
     ]
    }
   ],
   "source": [
    "Ricsdata2020_6 = ek.get_timeseries(rics,\n",
    "                                start_date='2020-11-01',\n",
    "                                end_date='2020-12-31',\n",
    "                                fields='CLOSE',\n",
    "                                interval='daily')"
   ]
  },
  {
   "cell_type": "code",
   "execution_count": 75,
   "id": "bba213c9",
   "metadata": {},
   "outputs": [],
   "source": [
    "Ricsdata2021 = ek.get_timeseries(rics,\n",
    "                                start_date='2021-01-01',\n",
    "                                end_date='2021-02-28',\n",
    "                                fields='CLOSE',\n",
    "                                interval='daily')"
   ]
  },
  {
   "cell_type": "code",
   "execution_count": 76,
   "id": "5b3ca1a8",
   "metadata": {},
   "outputs": [],
   "source": [
    "Ricsdata2021_1 = ek.get_timeseries(rics,\n",
    "                                start_date='2021-03-01',\n",
    "                                end_date='2021-04-30',\n",
    "                                fields='CLOSE',\n",
    "                                interval='daily')"
   ]
  },
  {
   "cell_type": "code",
   "execution_count": 77,
   "id": "f3ea0db1",
   "metadata": {},
   "outputs": [],
   "source": [
    "Ricsdata2021_2 = ek.get_timeseries(rics,\n",
    "                                start_date='2021-05-01',\n",
    "                                end_date='2021-06-30',\n",
    "                                fields='CLOSE',\n",
    "                                interval='daily')"
   ]
  },
  {
   "cell_type": "code",
   "execution_count": 78,
   "id": "c474b0fb",
   "metadata": {},
   "outputs": [],
   "source": [
    "Ricsdata2021_3 = ek.get_timeseries(rics,\n",
    "                                start_date='2021-07-01',\n",
    "                                end_date='2021-08-31',\n",
    "                                fields='CLOSE',\n",
    "                                interval='daily')"
   ]
  },
  {
   "cell_type": "code",
   "execution_count": 79,
   "id": "3bc8b475",
   "metadata": {},
   "outputs": [],
   "source": [
    "Ricsdata2021_4 = ek.get_timeseries(rics,\n",
    "                                start_date='2021-09-01',\n",
    "                                end_date='2021-10-30',\n",
    "                                fields='CLOSE',\n",
    "                                interval='daily')"
   ]
  },
  {
   "cell_type": "code",
   "execution_count": 80,
   "id": "b0c54dc5",
   "metadata": {},
   "outputs": [],
   "source": [
    "Ricsdata2021_5 = ek.get_timeseries(rics,\n",
    "                                start_date='2021-11-01',\n",
    "                                end_date='2021-12-31',\n",
    "                                fields='CLOSE',\n",
    "                                interval='daily')"
   ]
  },
  {
   "cell_type": "code",
   "execution_count": 81,
   "id": "ff5854b8",
   "metadata": {},
   "outputs": [],
   "source": [
    "Ricsdata2022 = ek.get_timeseries(rics,\n",
    "                                start_date='2022-01-01',\n",
    "                                end_date='2022-02-28',\n",
    "                                fields='CLOSE',\n",
    "                                interval='daily')"
   ]
  },
  {
   "cell_type": "code",
   "execution_count": 82,
   "id": "f8fa94d7",
   "metadata": {},
   "outputs": [],
   "source": [
    "Ricsdata2022_1 = ek.get_timeseries(rics,\n",
    "                                start_date='2022-03-01',\n",
    "                                end_date='2022-04-30',\n",
    "                                fields='CLOSE',\n",
    "                                interval='daily')"
   ]
  },
  {
   "cell_type": "code",
   "execution_count": 83,
   "id": "3a60ecfe",
   "metadata": {},
   "outputs": [
    {
     "name": "stderr",
     "output_type": "stream",
     "text": [
      "2023-04-23 18:58:00,764 P[21888] [MainThread 20508] Error with .NQBUY: No data available for the requested date range\n"
     ]
    }
   ],
   "source": [
    "Ricsdata2022_2 = ek.get_timeseries(rics,\n",
    "                                start_date='2022-05-01',\n",
    "                                end_date='2022-06-30',\n",
    "                                fields='CLOSE',\n",
    "                                interval='daily')"
   ]
  },
  {
   "cell_type": "code",
   "execution_count": 84,
   "id": "112c9cbd",
   "metadata": {},
   "outputs": [
    {
     "name": "stderr",
     "output_type": "stream",
     "text": [
      "2023-04-23 18:58:01,184 P[21888] [MainThread 20508] Error with .NQBUY: No data available for the requested date range\n"
     ]
    }
   ],
   "source": [
    "Ricsdata2022_3 = ek.get_timeseries(rics,\n",
    "                                start_date='2022-07-01',\n",
    "                                end_date='2022-08-31',\n",
    "                                fields='CLOSE',\n",
    "                                interval='daily')"
   ]
  },
  {
   "cell_type": "code",
   "execution_count": 85,
   "id": "533383bf",
   "metadata": {},
   "outputs": [
    {
     "name": "stderr",
     "output_type": "stream",
     "text": [
      "2023-04-23 18:58:01,544 P[21888] [MainThread 20508] Error with .NQBUY: No data available for the requested date range\n"
     ]
    }
   ],
   "source": [
    "Ricsdata2022_4 = ek.get_timeseries(rics,\n",
    "                                start_date='2022-09-01',\n",
    "                                end_date='2022-10-30',\n",
    "                                fields='CLOSE',\n",
    "                                interval='daily')"
   ]
  },
  {
   "cell_type": "code",
   "execution_count": 86,
   "id": "973c822d",
   "metadata": {},
   "outputs": [
    {
     "name": "stderr",
     "output_type": "stream",
     "text": [
      "2023-04-23 18:58:01,946 P[21888] [MainThread 20508] Error with .NQBUY: No data available for the requested date range\n"
     ]
    }
   ],
   "source": [
    "Ricsdata2022_5 = ek.get_timeseries(rics,\n",
    "                                start_date='2022-11-01',\n",
    "                                end_date='2022-12-31',\n",
    "                                fields='CLOSE',\n",
    "                                interval='daily')"
   ]
  },
  {
   "cell_type": "code",
   "execution_count": 87,
   "id": "027c0076",
   "metadata": {},
   "outputs": [
    {
     "name": "stderr",
     "output_type": "stream",
     "text": [
      "2023-04-23 18:58:02,338 P[21888] [MainThread 20508] Error with .NQBUY: No data available for the requested date range\n"
     ]
    }
   ],
   "source": [
    "Ricsdata2023 = ek.get_timeseries(rics,\n",
    "                                start_date='2023-01-01',\n",
    "                                end_date='2023-03-16',\n",
    "                                fields='CLOSE',\n",
    "                                interval='daily')"
   ]
  },
  {
   "cell_type": "code",
   "execution_count": 88,
   "id": "e64a060d",
   "metadata": {},
   "outputs": [],
   "source": [
    "macrodata = pd.concat([Ricsdata2017, Ricsdata2017_1, Ricsdata2017_2, Ricsdata2017_3, Ricsdata2017_4, Ricsdata2017_5, Ricsdata2018, Ricsdata2018_1, Ricsdata2018_2, Ricsdata2018_3, Ricsdata2018_4, Ricsdata2018_5, Ricsdata2019, Ricsdata2020_1, Ricsdata2020_2, Ricsdata2020_3, Ricsdata2020_4, Ricsdata2020_5, Ricsdata2021, Ricsdata2021_1, Ricsdata2021_2, Ricsdata2021_3, Ricsdata2021_4, Ricsdata2021_5, Ricsdata2022, Ricsdata2022_1, Ricsdata2022_2, Ricsdata2022_3, Ricsdata2022_4, Ricsdata2022_5, Ricsdata2023])"
   ]
  },
  {
   "cell_type": "code",
   "execution_count": 89,
   "id": "00471f48",
   "metadata": {},
   "outputs": [
    {
     "data": {
      "text/html": [
       "<div>\n",
       "<style scoped>\n",
       "    .dataframe tbody tr th:only-of-type {\n",
       "        vertical-align: middle;\n",
       "    }\n",
       "\n",
       "    .dataframe tbody tr th {\n",
       "        vertical-align: top;\n",
       "    }\n",
       "\n",
       "    .dataframe thead th {\n",
       "        text-align: right;\n",
       "    }\n",
       "</style>\n",
       "<table border=\"1\" class=\"dataframe\">\n",
       "  <thead>\n",
       "    <tr style=\"text-align: right;\">\n",
       "      <th></th>\n",
       "      <th>ESc1</th>\n",
       "      <th>TYc1</th>\n",
       "      <th>VXc1</th>\n",
       "      <th>NQc1</th>\n",
       "      <th>HYc1</th>\n",
       "      <th>.DXY</th>\n",
       "      <th>GCc1</th>\n",
       "      <th>CLc1</th>\n",
       "      <th>.IBXXIBHY</th>\n",
       "      <th>.STOXX50E</th>\n",
       "      <th>...</th>\n",
       "      <th>IDEV.K</th>\n",
       "      <th>.TRIFTUSPLUT</th>\n",
       "      <th>SDAZ3</th>\n",
       "      <th>SDAZ24</th>\n",
       "      <th>.FTJQUA</th>\n",
       "      <th>.FTJVAL</th>\n",
       "      <th>.FTJMOM</th>\n",
       "      <th>.FTJMIN</th>\n",
       "      <th>VQLc1</th>\n",
       "      <th>.FTFTUSPSUT</th>\n",
       "    </tr>\n",
       "    <tr>\n",
       "      <th>Date</th>\n",
       "      <th></th>\n",
       "      <th></th>\n",
       "      <th></th>\n",
       "      <th></th>\n",
       "      <th></th>\n",
       "      <th></th>\n",
       "      <th></th>\n",
       "      <th></th>\n",
       "      <th></th>\n",
       "      <th></th>\n",
       "      <th></th>\n",
       "      <th></th>\n",
       "      <th></th>\n",
       "      <th></th>\n",
       "      <th></th>\n",
       "      <th></th>\n",
       "      <th></th>\n",
       "      <th></th>\n",
       "      <th></th>\n",
       "      <th></th>\n",
       "      <th></th>\n",
       "    </tr>\n",
       "  </thead>\n",
       "  <tbody>\n",
       "    <tr>\n",
       "      <th>2017-01-02</th>\n",
       "      <td>NaN</td>\n",
       "      <td>NaN</td>\n",
       "      <td>NaN</td>\n",
       "      <td>NaN</td>\n",
       "      <td>NaN</td>\n",
       "      <td>102.83</td>\n",
       "      <td>NaN</td>\n",
       "      <td>NaN</td>\n",
       "      <td>NaN</td>\n",
       "      <td>3308.67</td>\n",
       "      <td>...</td>\n",
       "      <td>NaN</td>\n",
       "      <td>NaN</td>\n",
       "      <td>NaN</td>\n",
       "      <td>NaN</td>\n",
       "      <td>NaN</td>\n",
       "      <td>NaN</td>\n",
       "      <td>NaN</td>\n",
       "      <td>NaN</td>\n",
       "      <td>NaN</td>\n",
       "      <td>NaN</td>\n",
       "    </tr>\n",
       "    <tr>\n",
       "      <th>2017-01-03</th>\n",
       "      <td>2252.50</td>\n",
       "      <td>124.109375</td>\n",
       "      <td>13.775</td>\n",
       "      <td>4906.25</td>\n",
       "      <td>87.42</td>\n",
       "      <td>103.21</td>\n",
       "      <td>1160.4</td>\n",
       "      <td>52.33</td>\n",
       "      <td>116.296256</td>\n",
       "      <td>3315.02</td>\n",
       "      <td>...</td>\n",
       "      <td>NaN</td>\n",
       "      <td>NaN</td>\n",
       "      <td>NaN</td>\n",
       "      <td>NaN</td>\n",
       "      <td>NaN</td>\n",
       "      <td>NaN</td>\n",
       "      <td>NaN</td>\n",
       "      <td>NaN</td>\n",
       "      <td>NaN</td>\n",
       "      <td>NaN</td>\n",
       "    </tr>\n",
       "    <tr>\n",
       "      <th>2017-01-04</th>\n",
       "      <td>2264.25</td>\n",
       "      <td>124.109375</td>\n",
       "      <td>13.175</td>\n",
       "      <td>4933.50</td>\n",
       "      <td>88.15</td>\n",
       "      <td>102.70</td>\n",
       "      <td>1163.8</td>\n",
       "      <td>53.26</td>\n",
       "      <td>116.715608</td>\n",
       "      <td>3317.52</td>\n",
       "      <td>...</td>\n",
       "      <td>NaN</td>\n",
       "      <td>NaN</td>\n",
       "      <td>NaN</td>\n",
       "      <td>NaN</td>\n",
       "      <td>NaN</td>\n",
       "      <td>NaN</td>\n",
       "      <td>NaN</td>\n",
       "      <td>NaN</td>\n",
       "      <td>NaN</td>\n",
       "      <td>NaN</td>\n",
       "    </tr>\n",
       "    <tr>\n",
       "      <th>2017-01-05</th>\n",
       "      <td>2264.25</td>\n",
       "      <td>124.828125</td>\n",
       "      <td>13.025</td>\n",
       "      <td>4962.00</td>\n",
       "      <td>87.15</td>\n",
       "      <td>101.52</td>\n",
       "      <td>1179.7</td>\n",
       "      <td>53.76</td>\n",
       "      <td>116.989973</td>\n",
       "      <td>3316.47</td>\n",
       "      <td>...</td>\n",
       "      <td>NaN</td>\n",
       "      <td>NaN</td>\n",
       "      <td>NaN</td>\n",
       "      <td>NaN</td>\n",
       "      <td>NaN</td>\n",
       "      <td>NaN</td>\n",
       "      <td>NaN</td>\n",
       "      <td>NaN</td>\n",
       "      <td>NaN</td>\n",
       "      <td>NaN</td>\n",
       "    </tr>\n",
       "    <tr>\n",
       "      <th>2017-01-06</th>\n",
       "      <td>2271.50</td>\n",
       "      <td>124.406250</td>\n",
       "      <td>12.875</td>\n",
       "      <td>5004.00</td>\n",
       "      <td>88.23</td>\n",
       "      <td>102.22</td>\n",
       "      <td>1171.9</td>\n",
       "      <td>53.99</td>\n",
       "      <td>117.059031</td>\n",
       "      <td>3321.17</td>\n",
       "      <td>...</td>\n",
       "      <td>NaN</td>\n",
       "      <td>NaN</td>\n",
       "      <td>NaN</td>\n",
       "      <td>NaN</td>\n",
       "      <td>NaN</td>\n",
       "      <td>NaN</td>\n",
       "      <td>NaN</td>\n",
       "      <td>NaN</td>\n",
       "      <td>NaN</td>\n",
       "      <td>NaN</td>\n",
       "    </tr>\n",
       "  </tbody>\n",
       "</table>\n",
       "<p>5 rows × 57 columns</p>\n",
       "</div>"
      ],
      "text/plain": [
       "               ESc1        TYc1    VXc1     NQc1   HYc1    .DXY    GCc1  \\\n",
       "Date                                                                      \n",
       "2017-01-02      NaN         NaN     NaN      NaN    NaN  102.83     NaN   \n",
       "2017-01-03  2252.50  124.109375  13.775  4906.25  87.42  103.21  1160.4   \n",
       "2017-01-04  2264.25  124.109375  13.175  4933.50  88.15  102.70  1163.8   \n",
       "2017-01-05  2264.25  124.828125  13.025  4962.00  87.15  101.52  1179.7   \n",
       "2017-01-06  2271.50  124.406250  12.875  5004.00  88.23  102.22  1171.9   \n",
       "\n",
       "             CLc1   .IBXXIBHY  .STOXX50E  ...  IDEV.K  .TRIFTUSPLUT  SDAZ3  \\\n",
       "Date                                      ...                                \n",
       "2017-01-02    NaN         NaN    3308.67  ...     NaN           NaN    NaN   \n",
       "2017-01-03  52.33  116.296256    3315.02  ...     NaN           NaN    NaN   \n",
       "2017-01-04  53.26  116.715608    3317.52  ...     NaN           NaN    NaN   \n",
       "2017-01-05  53.76  116.989973    3316.47  ...     NaN           NaN    NaN   \n",
       "2017-01-06  53.99  117.059031    3321.17  ...     NaN           NaN    NaN   \n",
       "\n",
       "            SDAZ24  .FTJQUA  .FTJVAL  .FTJMOM  .FTJMIN  VQLc1  .FTFTUSPSUT  \n",
       "Date                                                                        \n",
       "2017-01-02     NaN      NaN      NaN      NaN      NaN    NaN          NaN  \n",
       "2017-01-03     NaN      NaN      NaN      NaN      NaN    NaN          NaN  \n",
       "2017-01-04     NaN      NaN      NaN      NaN      NaN    NaN          NaN  \n",
       "2017-01-05     NaN      NaN      NaN      NaN      NaN    NaN          NaN  \n",
       "2017-01-06     NaN      NaN      NaN      NaN      NaN    NaN          NaN  \n",
       "\n",
       "[5 rows x 57 columns]"
      ]
     },
     "execution_count": 89,
     "metadata": {},
     "output_type": "execute_result"
    }
   ],
   "source": [
    "macrodata.head()"
   ]
  },
  {
   "cell_type": "code",
   "execution_count": 90,
   "id": "2b48e70d",
   "metadata": {},
   "outputs": [],
   "source": [
    "import pandas as pd\n",
    "from fredapi import Fred\n",
    "from datetime import datetime, timedelta"
   ]
  },
  {
   "cell_type": "code",
   "execution_count": 91,
   "id": "3e498d20",
   "metadata": {},
   "outputs": [],
   "source": [
    "# API key\n",
    "fred = Fred(api_key='f49cd11c66241b63f7e1f146990465ab')"
   ]
  },
  {
   "cell_type": "code",
   "execution_count": 92,
   "id": "61056fa6",
   "metadata": {},
   "outputs": [
    {
     "name": "stdin",
     "output_type": "stream",
     "text": [
      "2020-01-01 \n",
      "2023-03-15 \n"
     ]
    },
    {
     "name": "stdout",
     "output_type": "stream",
     "text": [
      "            DGS1  DGS2  DGS3  DGS5  DGS10  DGS30  WGS3MO  DTWEXBGS  RTWEXBGS  \\\n",
      "1962-01-02  3.22   NaN  3.70  3.88   4.06    NaN     NaN       NaN       NaN   \n",
      "1962-01-03  3.24   NaN  3.70  3.87   4.03    NaN     NaN       NaN       NaN   \n",
      "1962-01-04  3.24   NaN  3.69  3.86   3.99    NaN     NaN       NaN       NaN   \n",
      "1962-01-05  3.26   NaN  3.71  3.89   4.02    NaN     NaN       NaN       NaN   \n",
      "1962-01-06  3.26   NaN  3.71  3.89   4.02    NaN     NaN       NaN       NaN   \n",
      "\n",
      "            T10Y3M  ...  CPIAUCSL   M2SL  UNRATE  CSUSHPINSA  RRPONTSYD  \\\n",
      "1962-01-02     NaN  ...     30.04  337.5     5.8         NaN        NaN   \n",
      "1962-01-03     NaN  ...     30.04  337.5     5.8         NaN        NaN   \n",
      "1962-01-04     NaN  ...     30.04  337.5     5.8         NaN        NaN   \n",
      "1962-01-05     NaN  ...     30.04  337.5     5.8         NaN        NaN   \n",
      "1962-01-06     NaN  ...     30.04  337.5     5.8         NaN        NaN   \n",
      "\n",
      "                GDP     GDPC1  PSAVERT  ICSA  DEXUSUK  \n",
      "1962-01-02  594.013  3502.298     11.3   NaN      NaN  \n",
      "1962-01-03  594.013  3502.298     11.3   NaN      NaN  \n",
      "1962-01-04  594.013  3502.298     11.3   NaN      NaN  \n",
      "1962-01-05  594.013  3502.298     11.3   NaN      NaN  \n",
      "1962-01-06  594.013  3502.298     11.3   NaN      NaN  \n",
      "\n",
      "[5 rows x 29 columns]\n"
     ]
    }
   ],
   "source": [
    "\n",
    "# Start and end dates for the data\n",
    "start_date = input(\"2020-01-01\")\n",
    "end_date = input(\"2023-03-15\")\n",
    "\n",
    "# API key for FRED\n",
    "api_key = 'f49cd11c66241b63f7e1f146990465ab'\n",
    "\n",
    "# List of FRED codes to pull data for\n",
    "fred_codes = ['DGS1', 'DGS2', 'DGS3', 'DGS5', 'DGS10', 'DGS30', 'WGS3MO', 'DTWEXBGS', 'RTWEXBGS',\n",
    "              'T10Y3M', 'T10Y2Y', 'BAMLH0A0HYM2', 'T5YIFR', 'T5YIE', 'DFEDTARU', 'DFF', 'OBMMIJUMBO30YF',\n",
    "              'T10Y2Y', 'FEDFUNDS', 'WALCL', 'BAMLH0A0HYM2', 'CPIAUCSL', 'M2SL', 'T10Y3M', 'UNRATE',\n",
    "              'DGS10', 'CSUSHPINSA', 'RRPONTSYD', 'GDP', 'GDPC1', 'T5YIE', 'PSAVERT', 'ICSA', 'DEXUSUK' ]\n",
    "\n",
    "# Create empty DataFrame to hold the data\n",
    "fred_data = pd.DataFrame()\n",
    "\n",
    "# Loop through each FRED code and pull the data\n",
    "for code in fred_codes:\n",
    "    try:\n",
    "        data = Fred(api_key=api_key).get_series(code, start_date=start_date, end_date=end_date)\n",
    "        if data.index.freq != 'D':\n",
    "            data = data.resample('D').last().ffill()\n",
    "        fred_data[code] = data\n",
    "    except Exception as e:\n",
    "        print(f'Error pulling data for {code}: {e}')\n",
    "\n",
    "# Display the resulting DataFrame\n",
    "print(fred_data.head())\n"
   ]
  },
  {
   "cell_type": "code",
   "execution_count": 93,
   "id": "dd51c3a7",
   "metadata": {},
   "outputs": [
    {
     "data": {
      "text/html": [
       "<div>\n",
       "<style scoped>\n",
       "    .dataframe tbody tr th:only-of-type {\n",
       "        vertical-align: middle;\n",
       "    }\n",
       "\n",
       "    .dataframe tbody tr th {\n",
       "        vertical-align: top;\n",
       "    }\n",
       "\n",
       "    .dataframe thead th {\n",
       "        text-align: right;\n",
       "    }\n",
       "</style>\n",
       "<table border=\"1\" class=\"dataframe\">\n",
       "  <thead>\n",
       "    <tr style=\"text-align: right;\">\n",
       "      <th></th>\n",
       "      <th>DGS1</th>\n",
       "      <th>DGS2</th>\n",
       "      <th>DGS3</th>\n",
       "      <th>DGS5</th>\n",
       "      <th>DGS10</th>\n",
       "      <th>DGS30</th>\n",
       "      <th>WGS3MO</th>\n",
       "      <th>DTWEXBGS</th>\n",
       "      <th>RTWEXBGS</th>\n",
       "      <th>T10Y3M</th>\n",
       "      <th>...</th>\n",
       "      <th>CPIAUCSL</th>\n",
       "      <th>M2SL</th>\n",
       "      <th>UNRATE</th>\n",
       "      <th>CSUSHPINSA</th>\n",
       "      <th>RRPONTSYD</th>\n",
       "      <th>GDP</th>\n",
       "      <th>GDPC1</th>\n",
       "      <th>PSAVERT</th>\n",
       "      <th>ICSA</th>\n",
       "      <th>DEXUSUK</th>\n",
       "    </tr>\n",
       "  </thead>\n",
       "  <tbody>\n",
       "    <tr>\n",
       "      <th>1962-01-02</th>\n",
       "      <td>3.22</td>\n",
       "      <td>NaN</td>\n",
       "      <td>3.70</td>\n",
       "      <td>3.88</td>\n",
       "      <td>4.06</td>\n",
       "      <td>NaN</td>\n",
       "      <td>NaN</td>\n",
       "      <td>NaN</td>\n",
       "      <td>NaN</td>\n",
       "      <td>NaN</td>\n",
       "      <td>...</td>\n",
       "      <td>30.04</td>\n",
       "      <td>337.5</td>\n",
       "      <td>5.8</td>\n",
       "      <td>NaN</td>\n",
       "      <td>NaN</td>\n",
       "      <td>594.013</td>\n",
       "      <td>3502.298</td>\n",
       "      <td>11.3</td>\n",
       "      <td>NaN</td>\n",
       "      <td>NaN</td>\n",
       "    </tr>\n",
       "    <tr>\n",
       "      <th>1962-01-03</th>\n",
       "      <td>3.24</td>\n",
       "      <td>NaN</td>\n",
       "      <td>3.70</td>\n",
       "      <td>3.87</td>\n",
       "      <td>4.03</td>\n",
       "      <td>NaN</td>\n",
       "      <td>NaN</td>\n",
       "      <td>NaN</td>\n",
       "      <td>NaN</td>\n",
       "      <td>NaN</td>\n",
       "      <td>...</td>\n",
       "      <td>30.04</td>\n",
       "      <td>337.5</td>\n",
       "      <td>5.8</td>\n",
       "      <td>NaN</td>\n",
       "      <td>NaN</td>\n",
       "      <td>594.013</td>\n",
       "      <td>3502.298</td>\n",
       "      <td>11.3</td>\n",
       "      <td>NaN</td>\n",
       "      <td>NaN</td>\n",
       "    </tr>\n",
       "    <tr>\n",
       "      <th>1962-01-04</th>\n",
       "      <td>3.24</td>\n",
       "      <td>NaN</td>\n",
       "      <td>3.69</td>\n",
       "      <td>3.86</td>\n",
       "      <td>3.99</td>\n",
       "      <td>NaN</td>\n",
       "      <td>NaN</td>\n",
       "      <td>NaN</td>\n",
       "      <td>NaN</td>\n",
       "      <td>NaN</td>\n",
       "      <td>...</td>\n",
       "      <td>30.04</td>\n",
       "      <td>337.5</td>\n",
       "      <td>5.8</td>\n",
       "      <td>NaN</td>\n",
       "      <td>NaN</td>\n",
       "      <td>594.013</td>\n",
       "      <td>3502.298</td>\n",
       "      <td>11.3</td>\n",
       "      <td>NaN</td>\n",
       "      <td>NaN</td>\n",
       "    </tr>\n",
       "    <tr>\n",
       "      <th>1962-01-05</th>\n",
       "      <td>3.26</td>\n",
       "      <td>NaN</td>\n",
       "      <td>3.71</td>\n",
       "      <td>3.89</td>\n",
       "      <td>4.02</td>\n",
       "      <td>NaN</td>\n",
       "      <td>NaN</td>\n",
       "      <td>NaN</td>\n",
       "      <td>NaN</td>\n",
       "      <td>NaN</td>\n",
       "      <td>...</td>\n",
       "      <td>30.04</td>\n",
       "      <td>337.5</td>\n",
       "      <td>5.8</td>\n",
       "      <td>NaN</td>\n",
       "      <td>NaN</td>\n",
       "      <td>594.013</td>\n",
       "      <td>3502.298</td>\n",
       "      <td>11.3</td>\n",
       "      <td>NaN</td>\n",
       "      <td>NaN</td>\n",
       "    </tr>\n",
       "    <tr>\n",
       "      <th>1962-01-06</th>\n",
       "      <td>3.26</td>\n",
       "      <td>NaN</td>\n",
       "      <td>3.71</td>\n",
       "      <td>3.89</td>\n",
       "      <td>4.02</td>\n",
       "      <td>NaN</td>\n",
       "      <td>NaN</td>\n",
       "      <td>NaN</td>\n",
       "      <td>NaN</td>\n",
       "      <td>NaN</td>\n",
       "      <td>...</td>\n",
       "      <td>30.04</td>\n",
       "      <td>337.5</td>\n",
       "      <td>5.8</td>\n",
       "      <td>NaN</td>\n",
       "      <td>NaN</td>\n",
       "      <td>594.013</td>\n",
       "      <td>3502.298</td>\n",
       "      <td>11.3</td>\n",
       "      <td>NaN</td>\n",
       "      <td>NaN</td>\n",
       "    </tr>\n",
       "  </tbody>\n",
       "</table>\n",
       "<p>5 rows × 29 columns</p>\n",
       "</div>"
      ],
      "text/plain": [
       "            DGS1  DGS2  DGS3  DGS5  DGS10  DGS30  WGS3MO  DTWEXBGS  RTWEXBGS  \\\n",
       "1962-01-02  3.22   NaN  3.70  3.88   4.06    NaN     NaN       NaN       NaN   \n",
       "1962-01-03  3.24   NaN  3.70  3.87   4.03    NaN     NaN       NaN       NaN   \n",
       "1962-01-04  3.24   NaN  3.69  3.86   3.99    NaN     NaN       NaN       NaN   \n",
       "1962-01-05  3.26   NaN  3.71  3.89   4.02    NaN     NaN       NaN       NaN   \n",
       "1962-01-06  3.26   NaN  3.71  3.89   4.02    NaN     NaN       NaN       NaN   \n",
       "\n",
       "            T10Y3M  ...  CPIAUCSL   M2SL  UNRATE  CSUSHPINSA  RRPONTSYD  \\\n",
       "1962-01-02     NaN  ...     30.04  337.5     5.8         NaN        NaN   \n",
       "1962-01-03     NaN  ...     30.04  337.5     5.8         NaN        NaN   \n",
       "1962-01-04     NaN  ...     30.04  337.5     5.8         NaN        NaN   \n",
       "1962-01-05     NaN  ...     30.04  337.5     5.8         NaN        NaN   \n",
       "1962-01-06     NaN  ...     30.04  337.5     5.8         NaN        NaN   \n",
       "\n",
       "                GDP     GDPC1  PSAVERT  ICSA  DEXUSUK  \n",
       "1962-01-02  594.013  3502.298     11.3   NaN      NaN  \n",
       "1962-01-03  594.013  3502.298     11.3   NaN      NaN  \n",
       "1962-01-04  594.013  3502.298     11.3   NaN      NaN  \n",
       "1962-01-05  594.013  3502.298     11.3   NaN      NaN  \n",
       "1962-01-06  594.013  3502.298     11.3   NaN      NaN  \n",
       "\n",
       "[5 rows x 29 columns]"
      ]
     },
     "execution_count": 93,
     "metadata": {},
     "output_type": "execute_result"
    }
   ],
   "source": [
    "fred_data.head()"
   ]
  },
  {
   "cell_type": "code",
   "execution_count": 94,
   "id": "6713421b-806c-435b-946f-71979d452ad4",
   "metadata": {},
   "outputs": [],
   "source": [
    "# Forward-fill the missing values for monthly data\n",
    "fred_data = fred_data.fillna(method='ffill')"
   ]
  },
  {
   "cell_type": "code",
   "execution_count": 95,
   "id": "715701ab-d1e4-44a9-8028-aa89d3d55206",
   "metadata": {},
   "outputs": [
    {
     "name": "stdout",
     "output_type": "stream",
     "text": [
      "            DGS1  DGS2  DGS3  DGS5  DGS10  DGS30  WGS3MO  DTWEXBGS  RTWEXBGS  \\\n",
      "2023-04-16  4.77  4.08  3.83  3.60   3.52   3.74    5.08  119.0301  115.5583   \n",
      "2023-04-17  4.80  4.18  3.92  3.69   3.60   3.81    5.08  119.0301  115.5583   \n",
      "2023-04-18  4.81  4.19  3.92  3.69   3.58   3.79    5.08  119.0301  115.5583   \n",
      "2023-04-19  4.84  4.24  3.97  3.71   3.60   3.79    5.08  119.0301  115.5583   \n",
      "2023-04-20  4.77  4.14  3.87  3.63   3.54   3.75    5.08  119.0301  115.5583   \n",
      "\n",
      "            T10Y3M  ...  CPIAUCSL     M2SL  UNRATE  CSUSHPINSA  RRPONTSYD  \\\n",
      "2023-04-16   -1.62  ...   301.808  21062.5     3.5     292.706   2253.786   \n",
      "2023-04-17   -1.61  ...   301.808  21062.5     3.5     292.706   2256.845   \n",
      "2023-04-18   -1.62  ...   301.808  21062.5     3.5     292.706   2238.994   \n",
      "2023-04-19   -1.56  ...   301.808  21062.5     3.5     292.706   2294.677   \n",
      "2023-04-20   -1.58  ...   301.808  21062.5     3.5     292.706   2277.259   \n",
      "\n",
      "                  GDP      GDPC1  PSAVERT      ICSA  DEXUSUK  \n",
      "2023-04-16  26137.992  20182.491      4.6  245000.0   1.2417  \n",
      "2023-04-17  26137.992  20182.491      4.6  245000.0   1.2417  \n",
      "2023-04-18  26137.992  20182.491      4.6  245000.0   1.2417  \n",
      "2023-04-19  26137.992  20182.491      4.6  245000.0   1.2417  \n",
      "2023-04-20  26137.992  20182.491      4.6  245000.0   1.2417  \n",
      "\n",
      "[5 rows x 29 columns]\n"
     ]
    }
   ],
   "source": [
    "# Resample the data to daily frequency\n",
    "fred_data = fred_data.resample('D').ffill()\n",
    "\n",
    "# Display the resulting DataFrame\n",
    "print(fred_data.tail())"
   ]
  },
  {
   "cell_type": "code",
   "execution_count": 96,
   "id": "0154fb1e-0556-47d1-9540-683fee5c663e",
   "metadata": {},
   "outputs": [
    {
     "name": "stdout",
     "output_type": "stream",
     "text": [
      "                DGS1      DGS2      DGS3      DGS5     DGS10     DGS30  \\\n",
      "2023-04-16  0.000000  0.000000  0.000000  0.000000  0.000000  0.000000   \n",
      "2023-04-17  0.006289  0.024510  0.023499  0.025000  0.022727  0.018717   \n",
      "2023-04-18  0.002083  0.002392  0.000000  0.000000 -0.005556 -0.005249   \n",
      "2023-04-19  0.006237  0.011933  0.012755  0.005420  0.005587  0.000000   \n",
      "2023-04-20 -0.014463 -0.023585 -0.025189 -0.021563 -0.016667 -0.010554   \n",
      "\n",
      "            WGS3MO  DTWEXBGS  RTWEXBGS    T10Y3M  ...  CPIAUCSL  M2SL  UNRATE  \\\n",
      "2023-04-16     0.0       0.0       0.0  0.000000  ...       0.0   0.0     0.0   \n",
      "2023-04-17     0.0       0.0       0.0 -0.006173  ...       0.0   0.0     0.0   \n",
      "2023-04-18     0.0       0.0       0.0  0.006211  ...       0.0   0.0     0.0   \n",
      "2023-04-19     0.0       0.0       0.0 -0.037037  ...       0.0   0.0     0.0   \n",
      "2023-04-20     0.0       0.0       0.0  0.012821  ...       0.0   0.0     0.0   \n",
      "\n",
      "            CSUSHPINSA  RRPONTSYD  GDP  GDPC1  PSAVERT  ICSA  DEXUSUK  \n",
      "2023-04-16         0.0   0.000000  0.0    0.0      0.0   0.0      0.0  \n",
      "2023-04-17         0.0   0.001357  0.0    0.0      0.0   0.0      0.0  \n",
      "2023-04-18         0.0  -0.007910  0.0    0.0      0.0   0.0      0.0  \n",
      "2023-04-19         0.0   0.024870  0.0    0.0      0.0   0.0      0.0  \n",
      "2023-04-20         0.0  -0.007591  0.0    0.0      0.0   0.0      0.0  \n",
      "\n",
      "[5 rows x 29 columns]\n"
     ]
    }
   ],
   "source": [
    "# Calculate the percent change from the last period\n",
    "fred_pct_change = fred_data.pct_change()\n",
    "\n",
    "# Display the resulting DataFrame\n",
    "print(fred_pct_change.tail())"
   ]
  },
  {
   "cell_type": "code",
   "execution_count": 97,
   "id": "4230c7c2-31a6-445b-bc7e-6864febd0a09",
   "metadata": {},
   "outputs": [
    {
     "name": "stdout",
     "output_type": "stream",
     "text": [
      "                DGS1      DGS2      DGS3      DGS5     DGS10     DGS30  \\\n",
      "2016-01-01  0.000000  0.000000  0.000000  0.000000  0.000000  0.000000   \n",
      "2016-01-02  0.000000  0.000000  0.000000  0.000000  0.000000  0.000000   \n",
      "2016-01-03  0.000000  0.000000  0.000000  0.000000  0.000000  0.000000   \n",
      "2016-01-04 -0.061538 -0.037736  0.000000 -0.017045 -0.013216 -0.009967   \n",
      "2016-01-05  0.114754  0.019608  0.007634  0.000000  0.004464  0.010067   \n",
      "...              ...       ...       ...       ...       ...       ...   \n",
      "2023-03-12  0.000000  0.000000  0.000000  0.000000  0.000000  0.000000   \n",
      "2023-03-13 -0.122449 -0.123913 -0.099768 -0.070707 -0.040541  0.000000   \n",
      "2023-03-14  0.034884  0.042184  0.043814  0.027174  0.025352  0.018919   \n",
      "2023-03-15 -0.058427 -0.064286 -0.054321 -0.050265 -0.035714 -0.018568   \n",
      "2023-03-16  0.071599  0.053435  0.041775  0.036212  0.014245  0.002703   \n",
      "\n",
      "            WGS3MO  DTWEXBGS  RTWEXBGS    T10Y3M  ...  CPIAUCSL     M2SL  \\\n",
      "2016-01-01     0.0  0.000000  0.021818  0.000000  ... -0.000458  0.00997   \n",
      "2016-01-02     0.0  0.000000  0.000000  0.000000  ...  0.000000  0.00000   \n",
      "2016-01-03     0.0  0.000000  0.000000  0.000000  ...  0.000000  0.00000   \n",
      "2016-01-04     0.0  0.007205  0.000000 -0.042654  ...  0.000000  0.00000   \n",
      "2016-01-05     0.0  0.000923  0.000000  0.014851  ...  0.000000  0.00000   \n",
      "...            ...       ...       ...       ...  ...       ...      ...   \n",
      "2023-03-12     0.0  0.000000  0.000000  0.000000  ...  0.000000  0.00000   \n",
      "2023-03-13     0.0 -0.003281  0.000000  0.007634  ...  0.000000  0.00000   \n",
      "2023-03-14     0.0  0.001170  0.000000 -0.060606  ...  0.000000  0.00000   \n",
      "2023-03-15     0.0  0.008654  0.000000  0.000000  ...  0.000000  0.00000   \n",
      "2023-03-16     0.0 -0.002857  0.000000 -0.048387  ...  0.000000  0.00000   \n",
      "\n",
      "            UNRATE  CSUSHPINSA  RRPONTSYD       GDP     GDPC1   PSAVERT  \\\n",
      "2016-01-01   -0.04   -0.000451   0.000000  0.005085  0.005892  0.040541   \n",
      "2016-01-02    0.00    0.000000   0.000000  0.000000  0.000000  0.000000   \n",
      "2016-01-03    0.00    0.000000   0.000000  0.000000  0.000000  0.000000   \n",
      "2016-01-04    0.00    0.000000  -0.579280  0.000000  0.000000  0.000000   \n",
      "2016-01-05    0.00    0.000000  -0.150523  0.000000  0.000000  0.000000   \n",
      "...            ...         ...        ...       ...       ...       ...   \n",
      "2023-03-12    0.00    0.000000   0.000000  0.000000  0.000000  0.000000   \n",
      "2023-03-13    0.00    0.000000  -0.028194  0.000000  0.000000  0.000000   \n",
      "2023-03-14    0.00    0.000000  -0.039544  0.000000  0.000000  0.000000   \n",
      "2023-03-15    0.00    0.000000   0.006484  0.000000  0.000000  0.000000   \n",
      "2023-03-16    0.00    0.000000   0.005105  0.000000  0.000000  0.000000   \n",
      "\n",
      "               ICSA   DEXUSUK  \n",
      "2016-01-01  0.00000  0.000000  \n",
      "2016-01-02 -0.01087  0.000000  \n",
      "2016-01-03  0.00000  0.000000  \n",
      "2016-01-04  0.00000 -0.004069  \n",
      "2016-01-05  0.00000 -0.001498  \n",
      "...             ...       ...  \n",
      "2023-03-12  0.00000  0.000000  \n",
      "2023-03-13  0.00000  0.009715  \n",
      "2023-03-14  0.00000 -0.001151  \n",
      "2023-03-15  0.00000 -0.009386  \n",
      "2023-03-16  0.00000  0.006566  \n",
      "\n",
      "[2632 rows x 29 columns]\n"
     ]
    }
   ],
   "source": [
    "# convert index to datetime format\n",
    "fred_pct_change.index = pd.to_datetime(fred_pct_change.index)\n",
    "\n",
    "# select rows after a certain date\n",
    "start_date = '2016-01-01'\n",
    "end_date = '2023-03-16'\n",
    "mask = (fred_pct_change.index >= start_date) & (fred_pct_change.index <= end_date)\n",
    "new_df = fred_pct_change.loc[mask]\n",
    "\n",
    "print(new_df)"
   ]
  },
  {
   "cell_type": "code",
   "execution_count": 98,
   "id": "b157fba3-0c8d-456d-99b8-436401360cca",
   "metadata": {},
   "outputs": [],
   "source": [
    "# Merge the two dataframes based on the 'Date' column\n",
    "final_data = pd.merge(raw_data, macrodata, left_index=True, right_index=True, how='outer')\n",
    "final_data = final_data.merge(new_df, left_index=True, right_index=True, how='inner')\n",
    "\n"
   ]
  },
  {
   "cell_type": "code",
   "execution_count": 99,
   "id": "72b9fd49-31c5-4d87-b4c6-70527a349519",
   "metadata": {},
   "outputs": [
    {
     "name": "stdout",
     "output_type": "stream",
     "text": [
      "               OPEN     HIGH      LOW    CLOSE   VOLUME  histogram  side  \\\n",
      "2016-01-04  2037.75  2043.50  1980.25  2009.00  2216549   0.000000   0.0   \n",
      "2016-01-04  2037.75  2043.50  1980.25  2009.00  2216549   0.000000   0.0   \n",
      "2016-01-05  2009.00  2017.00  1992.25  2011.75  1688974   0.175499   1.0   \n",
      "2016-01-06  2010.75  2013.25  1970.50  1986.00  2237518  -1.367407   1.0   \n",
      "2016-01-07  1987.75  1991.00  1928.50  1933.00  2969295  -5.642408  -1.0   \n",
      "...             ...      ...      ...      ...      ...        ...   ...   \n",
      "2023-03-10  3919.00  3941.75  3846.25  3862.75  3285811 -16.734070  -1.0   \n",
      "2023-03-13  3887.75  3938.75  3808.75  3856.75  2750477 -19.549830  -1.0   \n",
      "2023-03-14  3865.75  3938.00  3855.25  3920.50  1606509 -16.059395  -1.0   \n",
      "2023-03-15  3920.50  3931.00  3834.00  3892.75   833643 -14.602047  -1.0   \n",
      "2023-03-16      NaN      NaN      NaN      NaN     <NA>        NaN   NaN   \n",
      "\n",
      "             log_ret       ret  trend_tvalue  ...  CPIAUCSL  M2SL  UNRATE  \\\n",
      "2016-01-04  0.000000  0.000000      0.000000  ...       0.0   0.0     0.0   \n",
      "2016-01-04  0.000000  0.000000      0.000000  ...       0.0   0.0     0.0   \n",
      "2016-01-05  0.001368  0.000000      0.000000  ...       0.0   0.0     0.0   \n",
      "2016-01-06 -0.012882  0.001368      0.000000  ...       0.0   0.0     0.0   \n",
      "2016-01-07 -0.027049 -0.012882      0.000000  ...       0.0   0.0     0.0   \n",
      "...              ...       ...           ...  ...       ...   ...     ...   \n",
      "2023-03-10 -0.014712  0.018952     -6.436892  ...       0.0   0.0     0.0   \n",
      "2023-03-13 -0.001555  0.014712     -6.269170  ...       0.0   0.0     0.0   \n",
      "2023-03-14  0.016394  0.001555     -5.844185  ...       0.0   0.0     0.0   \n",
      "2023-03-15 -0.007103 -0.016394     -5.590101  ...       0.0   0.0     0.0   \n",
      "2023-03-16       NaN       NaN           NaN  ...       0.0   0.0     0.0   \n",
      "\n",
      "            CSUSHPINSA  RRPONTSYD  GDP  GDPC1  PSAVERT  ICSA   DEXUSUK  \n",
      "2016-01-04         0.0  -0.579280  0.0    0.0      0.0   0.0 -0.004069  \n",
      "2016-01-04         0.0  -0.579280  0.0    0.0      0.0   0.0 -0.004069  \n",
      "2016-01-05         0.0  -0.150523  0.0    0.0      0.0   0.0 -0.001498  \n",
      "2016-01-06         0.0  -0.253698  0.0    0.0      0.0   0.0 -0.002591  \n",
      "2016-01-07         0.0  -0.076953  0.0    0.0      0.0   0.0 -0.003213  \n",
      "...                ...        ...  ...    ...      ...   ...       ...  \n",
      "2023-03-10         0.0  -0.018500  0.0    0.0      0.0   0.0  0.010149  \n",
      "2023-03-13         0.0  -0.028194  0.0    0.0      0.0   0.0  0.009715  \n",
      "2023-03-14         0.0  -0.039544  0.0    0.0      0.0   0.0 -0.001151  \n",
      "2023-03-15         0.0   0.006484  0.0    0.0      0.0   0.0 -0.009386  \n",
      "2023-03-16         0.0   0.005105  0.0    0.0      0.0   0.0  0.006566  \n",
      "\n",
      "[1949 rows x 214 columns]\n"
     ]
    }
   ],
   "source": [
    "print(final_data)"
   ]
  },
  {
   "cell_type": "code",
   "execution_count": 100,
   "id": "a3024708-3cf7-4d02-ac4a-ba9f10f20fdc",
   "metadata": {},
   "outputs": [
    {
     "data": {
      "text/plain": [
       "['OPEN',\n",
       " 'HIGH',\n",
       " 'LOW',\n",
       " 'CLOSE',\n",
       " 'VOLUME',\n",
       " 'histogram',\n",
       " 'side',\n",
       " 'log_ret',\n",
       " 'ret',\n",
       " 'trend_tvalue',\n",
       " 'tvalue_tm1',\n",
       " 'trend',\n",
       " 'volume_adi',\n",
       " 'volume_obv',\n",
       " 'volume_cmf',\n",
       " 'volume_fi',\n",
       " 'volume_em',\n",
       " 'volume_sma_em',\n",
       " 'volume_vpt',\n",
       " 'volume_vwap',\n",
       " 'volume_mfi',\n",
       " 'volume_nvi',\n",
       " 'volatility_bbm',\n",
       " 'volatility_bbh',\n",
       " 'volatility_bbl',\n",
       " 'volatility_bbw',\n",
       " 'volatility_bbp',\n",
       " 'volatility_bbhi',\n",
       " 'volatility_bbli',\n",
       " 'volatility_kcc',\n",
       " 'volatility_kch',\n",
       " 'volatility_kcl',\n",
       " 'volatility_kcw',\n",
       " 'volatility_kcp',\n",
       " 'volatility_kchi',\n",
       " 'volatility_kcli',\n",
       " 'volatility_dcl',\n",
       " 'volatility_dch',\n",
       " 'volatility_dcm',\n",
       " 'volatility_dcw',\n",
       " 'volatility_dcp',\n",
       " 'volatility_atr',\n",
       " 'volatility_ui',\n",
       " 'trend_macd',\n",
       " 'trend_macd_signal',\n",
       " 'trend_macd_diff',\n",
       " 'trend_sma_fast',\n",
       " 'trend_sma_slow',\n",
       " 'trend_ema_fast',\n",
       " 'trend_ema_slow',\n",
       " 'trend_vortex_ind_pos',\n",
       " 'trend_vortex_ind_neg',\n",
       " 'trend_vortex_ind_diff',\n",
       " 'trend_trix',\n",
       " 'trend_mass_index',\n",
       " 'trend_dpo',\n",
       " 'trend_kst',\n",
       " 'trend_kst_sig',\n",
       " 'trend_kst_diff',\n",
       " 'trend_ichimoku_conv',\n",
       " 'trend_ichimoku_base',\n",
       " 'trend_ichimoku_a',\n",
       " 'trend_ichimoku_b',\n",
       " 'trend_stc',\n",
       " 'trend_adx',\n",
       " 'trend_adx_pos',\n",
       " 'trend_adx_neg',\n",
       " 'trend_cci',\n",
       " 'trend_visual_ichimoku_a',\n",
       " 'trend_visual_ichimoku_b',\n",
       " 'trend_aroon_up',\n",
       " 'trend_aroon_down',\n",
       " 'trend_aroon_ind',\n",
       " 'trend_psar_up',\n",
       " 'trend_psar_down',\n",
       " 'trend_psar_up_indicator',\n",
       " 'trend_psar_down_indicator',\n",
       " 'momentum_rsi',\n",
       " 'momentum_stoch_rsi',\n",
       " 'momentum_stoch_rsi_k',\n",
       " 'momentum_stoch_rsi_d',\n",
       " 'momentum_tsi',\n",
       " 'momentum_uo',\n",
       " 'momentum_stoch',\n",
       " 'momentum_stoch_signal',\n",
       " 'momentum_wr',\n",
       " 'momentum_ao',\n",
       " 'momentum_roc',\n",
       " 'momentum_ppo',\n",
       " 'momentum_ppo_signal',\n",
       " 'momentum_ppo_hist',\n",
       " 'momentum_pvo',\n",
       " 'momentum_pvo_signal',\n",
       " 'momentum_pvo_hist',\n",
       " 'momentum_kama',\n",
       " 'others_dr',\n",
       " 'others_dlr',\n",
       " 'others_cr',\n",
       " 'mom1',\n",
       " 'mom3',\n",
       " 'mom5',\n",
       " 'mom10',\n",
       " 'mom20',\n",
       " 'mom40',\n",
       " 'mom60',\n",
       " 'mom120',\n",
       " 'mom250',\n",
       " 'volatility_250',\n",
       " 'volatility_120',\n",
       " 'volatility_50',\n",
       " 'volatility_31',\n",
       " 'volatility_15',\n",
       " 'autocorr_1',\n",
       " 'autocorr_2',\n",
       " 'autocorr_3',\n",
       " 'autocorr_5',\n",
       " 'autocorr_10',\n",
       " 'log_t1',\n",
       " 'log_t2',\n",
       " 'log_t3',\n",
       " 'log_t5',\n",
       " 'parkinson_sinclair',\n",
       " 'parkinson_deprado',\n",
       " 'garman_klass_volatility',\n",
       " 'rogers_satchell_volatility',\n",
       " 'corwin_shultz_volatility',\n",
       " 'cho_frees_volatility',\n",
       " 'first_exit_times_volatility',\n",
       " 'ESc1',\n",
       " 'TYc1',\n",
       " 'VXc1',\n",
       " 'NQc1',\n",
       " 'HYc1',\n",
       " '.DXY',\n",
       " 'GCc1',\n",
       " 'CLc1',\n",
       " '.IBXXIBHY',\n",
       " '.STOXX50E',\n",
       " 'XLP',\n",
       " 'XLY',\n",
       " '.VIX',\n",
       " 'VBR',\n",
       " 'GSLC.K',\n",
       " 'FFcm1',\n",
       " '.IBXXIBIG',\n",
       " '.SKEWX',\n",
       " '.BCOM',\n",
       " '.RXM',\n",
       " '.MOVE',\n",
       " '.VVIX',\n",
       " '.VSTG',\n",
       " '.SPRP10GT',\n",
       " '.SPSGMITR',\n",
       " '.SPRPRVP',\n",
       " '.SPECFRLS',\n",
       " '.SPRPRCP',\n",
       " '.SPECFRP',\n",
       " '.SPECFR6P',\n",
       " '.SPXDPU1',\n",
       " '.RTOE.U',\n",
       " '.NEIXCTA',\n",
       " '.dMIUS0000PP',\n",
       " '.dMIUS0000JP',\n",
       " '.dMIUS0000OPUS',\n",
       " '.dMIUS0000IPUS',\n",
       " '.dMIUS0000NPUS',\n",
       " '.EHI474',\n",
       " '.SPHYDA',\n",
       " '.NQBUY',\n",
       " '.SGIXSENT',\n",
       " '.VIX3M',\n",
       " '.WTEPS',\n",
       " '.FTSE',\n",
       " '.HSI',\n",
       " 'EEM',\n",
       " 'IDEV.K',\n",
       " '.TRIFTUSPLUT',\n",
       " 'SDAZ3',\n",
       " 'SDAZ24',\n",
       " '.FTJQUA',\n",
       " '.FTJVAL',\n",
       " '.FTJMOM',\n",
       " '.FTJMIN',\n",
       " 'VQLc1',\n",
       " '.FTFTUSPSUT',\n",
       " 'DGS1',\n",
       " 'DGS2',\n",
       " 'DGS3',\n",
       " 'DGS5',\n",
       " 'DGS10',\n",
       " 'DGS30',\n",
       " 'WGS3MO',\n",
       " 'DTWEXBGS',\n",
       " 'RTWEXBGS',\n",
       " 'T10Y3M',\n",
       " 'T10Y2Y',\n",
       " 'BAMLH0A0HYM2',\n",
       " 'T5YIFR',\n",
       " 'T5YIE',\n",
       " 'DFEDTARU',\n",
       " 'DFF',\n",
       " 'OBMMIJUMBO30YF',\n",
       " 'FEDFUNDS',\n",
       " 'WALCL',\n",
       " 'CPIAUCSL',\n",
       " 'M2SL',\n",
       " 'UNRATE',\n",
       " 'CSUSHPINSA',\n",
       " 'RRPONTSYD',\n",
       " 'GDP',\n",
       " 'GDPC1',\n",
       " 'PSAVERT',\n",
       " 'ICSA',\n",
       " 'DEXUSUK']"
      ]
     },
     "execution_count": 100,
     "metadata": {},
     "output_type": "execute_result"
    }
   ],
   "source": [
    "final_data.columns.to_list()"
   ]
  },
  {
   "cell_type": "code",
   "execution_count": 105,
   "id": "ddb7f15f-de7d-485f-948b-1dd6666bae61",
   "metadata": {},
   "outputs": [],
   "source": [
    "training_data = final_data.fillna(0)"
   ]
  },
  {
   "cell_type": "code",
   "execution_count": null,
   "id": "5ae34568-f4fb-4440-93cf-d41557bc09f2",
   "metadata": {},
   "outputs": [],
   "source": []
  },
  {
   "cell_type": "code",
   "execution_count": 106,
   "id": "887260d9",
   "metadata": {},
   "outputs": [],
   "source": [
    "# Define the target variable and features\n",
    "target = 'ret'\n",
    "features = [col for col in training_data.columns if col != target and col != 'ret']\n",
    "\n",
    "# Create X and y arrays\n",
    "X = training_data[features]\n",
    "y = training_data[target]"
   ]
  },
  {
   "cell_type": "markdown",
   "id": "0d40b212-f920-4b3e-b1ab-6d3d46aa8e5a",
   "metadata": {},
   "source": [
    "# Check for values too big for float32 and replace with 0s\n",
    "max_value = np.finfo(np.float32).max\n",
    "cols_with_big_values = []\n",
    "for col in features:\n",
    "    if data[col].max() > max_value:\n",
    "        cols_with_big_values.append(col)\n",
    "        num_big_values = (data[col] > max_value).sum()\n",
    "        print(f'{num_big_values} values in {col} are too big for float32')\n",
    "        data.loc[data[col] > max_value, col] = 0\n",
    "\n",
    "# Check for values too big for float32 again after replacing with 0s\n",
    "for col in cols_with_big_values:\n",
    "    num_big_values = (data[col] > max_value).sum()\n",
    "    print(f'{num_big_values} values in {col} are still too big for float32 after replacing with 0')\n"
   ]
  },
  {
   "cell_type": "code",
   "execution_count": 107,
   "id": "69436cba",
   "metadata": {},
   "outputs": [
    {
     "name": "stderr",
     "output_type": "stream",
     "text": [
      "C:\\Users\\Jake Hanly\\anaconda3\\envs\\mlfinlab\\lib\\site-packages\\numpy\\core\\fromnumeric.py:87: RuntimeWarning: invalid value encountered in reduce\n",
      "  return ufunc.reduce(obj, axis, dtype, out, **passkwargs)\n"
     ]
    },
    {
     "ename": "ValueError",
     "evalue": "Input contains NaN, infinity or a value too large for dtype('float32').",
     "output_type": "error",
     "traceback": [
      "\u001b[1;31m---------------------------------------------------------------------------\u001b[0m",
      "\u001b[1;31mValueError\u001b[0m                                Traceback (most recent call last)",
      "Cell \u001b[1;32mIn[107], line 7\u001b[0m\n\u001b[0;32m      5\u001b[0m \u001b[38;5;66;03m# Train a random forest classifier\u001b[39;00m\n\u001b[0;32m      6\u001b[0m rf \u001b[38;5;241m=\u001b[39m RandomForestClassifier(n_estimators\u001b[38;5;241m=\u001b[39m\u001b[38;5;241m100\u001b[39m, random_state\u001b[38;5;241m=\u001b[39m\u001b[38;5;241m42\u001b[39m, max_depth\u001b[38;5;241m=\u001b[39m\u001b[38;5;241m7\u001b[39m)\n\u001b[1;32m----> 7\u001b[0m \u001b[43mrf\u001b[49m\u001b[38;5;241;43m.\u001b[39;49m\u001b[43mfit\u001b[49m\u001b[43m(\u001b[49m\u001b[43mX_train\u001b[49m\u001b[43m,\u001b[49m\u001b[43m \u001b[49m\u001b[43my_train\u001b[49m\u001b[43m)\u001b[49m\n",
      "File \u001b[1;32m~\\anaconda3\\envs\\mlfinlab\\lib\\site-packages\\sklearn\\ensemble\\_forest.py:304\u001b[0m, in \u001b[0;36mBaseForest.fit\u001b[1;34m(self, X, y, sample_weight)\u001b[0m\n\u001b[0;32m    300\u001b[0m \u001b[38;5;28;01mif\u001b[39;00m issparse(y):\n\u001b[0;32m    301\u001b[0m     \u001b[38;5;28;01mraise\u001b[39;00m \u001b[38;5;167;01mValueError\u001b[39;00m(\n\u001b[0;32m    302\u001b[0m         \u001b[38;5;124m\"\u001b[39m\u001b[38;5;124msparse multilabel-indicator for y is not supported.\u001b[39m\u001b[38;5;124m\"\u001b[39m\n\u001b[0;32m    303\u001b[0m     )\n\u001b[1;32m--> 304\u001b[0m X, y \u001b[38;5;241m=\u001b[39m \u001b[38;5;28;43mself\u001b[39;49m\u001b[38;5;241;43m.\u001b[39;49m\u001b[43m_validate_data\u001b[49m\u001b[43m(\u001b[49m\u001b[43mX\u001b[49m\u001b[43m,\u001b[49m\u001b[43m \u001b[49m\u001b[43my\u001b[49m\u001b[43m,\u001b[49m\u001b[43m \u001b[49m\u001b[43mmulti_output\u001b[49m\u001b[38;5;241;43m=\u001b[39;49m\u001b[38;5;28;43;01mTrue\u001b[39;49;00m\u001b[43m,\u001b[49m\n\u001b[0;32m    305\u001b[0m \u001b[43m                           \u001b[49m\u001b[43maccept_sparse\u001b[49m\u001b[38;5;241;43m=\u001b[39;49m\u001b[38;5;124;43m\"\u001b[39;49m\u001b[38;5;124;43mcsc\u001b[39;49m\u001b[38;5;124;43m\"\u001b[39;49m\u001b[43m,\u001b[49m\u001b[43m \u001b[49m\u001b[43mdtype\u001b[49m\u001b[38;5;241;43m=\u001b[39;49m\u001b[43mDTYPE\u001b[49m\u001b[43m)\u001b[49m\n\u001b[0;32m    306\u001b[0m \u001b[38;5;28;01mif\u001b[39;00m sample_weight \u001b[38;5;129;01mis\u001b[39;00m \u001b[38;5;129;01mnot\u001b[39;00m \u001b[38;5;28;01mNone\u001b[39;00m:\n\u001b[0;32m    307\u001b[0m     sample_weight \u001b[38;5;241m=\u001b[39m _check_sample_weight(sample_weight, X)\n",
      "File \u001b[1;32m~\\anaconda3\\envs\\mlfinlab\\lib\\site-packages\\sklearn\\base.py:433\u001b[0m, in \u001b[0;36mBaseEstimator._validate_data\u001b[1;34m(self, X, y, reset, validate_separately, **check_params)\u001b[0m\n\u001b[0;32m    431\u001b[0m         y \u001b[38;5;241m=\u001b[39m check_array(y, \u001b[38;5;241m*\u001b[39m\u001b[38;5;241m*\u001b[39mcheck_y_params)\n\u001b[0;32m    432\u001b[0m     \u001b[38;5;28;01melse\u001b[39;00m:\n\u001b[1;32m--> 433\u001b[0m         X, y \u001b[38;5;241m=\u001b[39m \u001b[43mcheck_X_y\u001b[49m\u001b[43m(\u001b[49m\u001b[43mX\u001b[49m\u001b[43m,\u001b[49m\u001b[43m \u001b[49m\u001b[43my\u001b[49m\u001b[43m,\u001b[49m\u001b[43m \u001b[49m\u001b[38;5;241;43m*\u001b[39;49m\u001b[38;5;241;43m*\u001b[39;49m\u001b[43mcheck_params\u001b[49m\u001b[43m)\u001b[49m\n\u001b[0;32m    434\u001b[0m     out \u001b[38;5;241m=\u001b[39m X, y\n\u001b[0;32m    436\u001b[0m \u001b[38;5;28;01mif\u001b[39;00m check_params\u001b[38;5;241m.\u001b[39mget(\u001b[38;5;124m'\u001b[39m\u001b[38;5;124mensure_2d\u001b[39m\u001b[38;5;124m'\u001b[39m, \u001b[38;5;28;01mTrue\u001b[39;00m):\n",
      "File \u001b[1;32m~\\anaconda3\\envs\\mlfinlab\\lib\\site-packages\\sklearn\\utils\\validation.py:63\u001b[0m, in \u001b[0;36m_deprecate_positional_args.<locals>._inner_deprecate_positional_args.<locals>.inner_f\u001b[1;34m(*args, **kwargs)\u001b[0m\n\u001b[0;32m     61\u001b[0m extra_args \u001b[38;5;241m=\u001b[39m \u001b[38;5;28mlen\u001b[39m(args) \u001b[38;5;241m-\u001b[39m \u001b[38;5;28mlen\u001b[39m(all_args)\n\u001b[0;32m     62\u001b[0m \u001b[38;5;28;01mif\u001b[39;00m extra_args \u001b[38;5;241m<\u001b[39m\u001b[38;5;241m=\u001b[39m \u001b[38;5;241m0\u001b[39m:\n\u001b[1;32m---> 63\u001b[0m     \u001b[38;5;28;01mreturn\u001b[39;00m \u001b[43mf\u001b[49m\u001b[43m(\u001b[49m\u001b[38;5;241;43m*\u001b[39;49m\u001b[43margs\u001b[49m\u001b[43m,\u001b[49m\u001b[43m \u001b[49m\u001b[38;5;241;43m*\u001b[39;49m\u001b[38;5;241;43m*\u001b[39;49m\u001b[43mkwargs\u001b[49m\u001b[43m)\u001b[49m\n\u001b[0;32m     65\u001b[0m \u001b[38;5;66;03m# extra_args > 0\u001b[39;00m\n\u001b[0;32m     66\u001b[0m args_msg \u001b[38;5;241m=\u001b[39m [\u001b[38;5;124m'\u001b[39m\u001b[38;5;132;01m{}\u001b[39;00m\u001b[38;5;124m=\u001b[39m\u001b[38;5;132;01m{}\u001b[39;00m\u001b[38;5;124m'\u001b[39m\u001b[38;5;241m.\u001b[39mformat(name, arg)\n\u001b[0;32m     67\u001b[0m             \u001b[38;5;28;01mfor\u001b[39;00m name, arg \u001b[38;5;129;01min\u001b[39;00m \u001b[38;5;28mzip\u001b[39m(kwonly_args[:extra_args],\n\u001b[0;32m     68\u001b[0m                                  args[\u001b[38;5;241m-\u001b[39mextra_args:])]\n",
      "File \u001b[1;32m~\\anaconda3\\envs\\mlfinlab\\lib\\site-packages\\sklearn\\utils\\validation.py:871\u001b[0m, in \u001b[0;36mcheck_X_y\u001b[1;34m(X, y, accept_sparse, accept_large_sparse, dtype, order, copy, force_all_finite, ensure_2d, allow_nd, multi_output, ensure_min_samples, ensure_min_features, y_numeric, estimator)\u001b[0m\n\u001b[0;32m    868\u001b[0m \u001b[38;5;28;01mif\u001b[39;00m y \u001b[38;5;129;01mis\u001b[39;00m \u001b[38;5;28;01mNone\u001b[39;00m:\n\u001b[0;32m    869\u001b[0m     \u001b[38;5;28;01mraise\u001b[39;00m \u001b[38;5;167;01mValueError\u001b[39;00m(\u001b[38;5;124m\"\u001b[39m\u001b[38;5;124my cannot be None\u001b[39m\u001b[38;5;124m\"\u001b[39m)\n\u001b[1;32m--> 871\u001b[0m X \u001b[38;5;241m=\u001b[39m \u001b[43mcheck_array\u001b[49m\u001b[43m(\u001b[49m\u001b[43mX\u001b[49m\u001b[43m,\u001b[49m\u001b[43m \u001b[49m\u001b[43maccept_sparse\u001b[49m\u001b[38;5;241;43m=\u001b[39;49m\u001b[43maccept_sparse\u001b[49m\u001b[43m,\u001b[49m\n\u001b[0;32m    872\u001b[0m \u001b[43m                \u001b[49m\u001b[43maccept_large_sparse\u001b[49m\u001b[38;5;241;43m=\u001b[39;49m\u001b[43maccept_large_sparse\u001b[49m\u001b[43m,\u001b[49m\n\u001b[0;32m    873\u001b[0m \u001b[43m                \u001b[49m\u001b[43mdtype\u001b[49m\u001b[38;5;241;43m=\u001b[39;49m\u001b[43mdtype\u001b[49m\u001b[43m,\u001b[49m\u001b[43m \u001b[49m\u001b[43morder\u001b[49m\u001b[38;5;241;43m=\u001b[39;49m\u001b[43morder\u001b[49m\u001b[43m,\u001b[49m\u001b[43m \u001b[49m\u001b[43mcopy\u001b[49m\u001b[38;5;241;43m=\u001b[39;49m\u001b[43mcopy\u001b[49m\u001b[43m,\u001b[49m\n\u001b[0;32m    874\u001b[0m \u001b[43m                \u001b[49m\u001b[43mforce_all_finite\u001b[49m\u001b[38;5;241;43m=\u001b[39;49m\u001b[43mforce_all_finite\u001b[49m\u001b[43m,\u001b[49m\n\u001b[0;32m    875\u001b[0m \u001b[43m                \u001b[49m\u001b[43mensure_2d\u001b[49m\u001b[38;5;241;43m=\u001b[39;49m\u001b[43mensure_2d\u001b[49m\u001b[43m,\u001b[49m\u001b[43m \u001b[49m\u001b[43mallow_nd\u001b[49m\u001b[38;5;241;43m=\u001b[39;49m\u001b[43mallow_nd\u001b[49m\u001b[43m,\u001b[49m\n\u001b[0;32m    876\u001b[0m \u001b[43m                \u001b[49m\u001b[43mensure_min_samples\u001b[49m\u001b[38;5;241;43m=\u001b[39;49m\u001b[43mensure_min_samples\u001b[49m\u001b[43m,\u001b[49m\n\u001b[0;32m    877\u001b[0m \u001b[43m                \u001b[49m\u001b[43mensure_min_features\u001b[49m\u001b[38;5;241;43m=\u001b[39;49m\u001b[43mensure_min_features\u001b[49m\u001b[43m,\u001b[49m\n\u001b[0;32m    878\u001b[0m \u001b[43m                \u001b[49m\u001b[43mestimator\u001b[49m\u001b[38;5;241;43m=\u001b[39;49m\u001b[43mestimator\u001b[49m\u001b[43m)\u001b[49m\n\u001b[0;32m    879\u001b[0m \u001b[38;5;28;01mif\u001b[39;00m multi_output:\n\u001b[0;32m    880\u001b[0m     y \u001b[38;5;241m=\u001b[39m check_array(y, accept_sparse\u001b[38;5;241m=\u001b[39m\u001b[38;5;124m'\u001b[39m\u001b[38;5;124mcsr\u001b[39m\u001b[38;5;124m'\u001b[39m, force_all_finite\u001b[38;5;241m=\u001b[39m\u001b[38;5;28;01mTrue\u001b[39;00m,\n\u001b[0;32m    881\u001b[0m                     ensure_2d\u001b[38;5;241m=\u001b[39m\u001b[38;5;28;01mFalse\u001b[39;00m, dtype\u001b[38;5;241m=\u001b[39m\u001b[38;5;28;01mNone\u001b[39;00m)\n",
      "File \u001b[1;32m~\\anaconda3\\envs\\mlfinlab\\lib\\site-packages\\sklearn\\utils\\validation.py:63\u001b[0m, in \u001b[0;36m_deprecate_positional_args.<locals>._inner_deprecate_positional_args.<locals>.inner_f\u001b[1;34m(*args, **kwargs)\u001b[0m\n\u001b[0;32m     61\u001b[0m extra_args \u001b[38;5;241m=\u001b[39m \u001b[38;5;28mlen\u001b[39m(args) \u001b[38;5;241m-\u001b[39m \u001b[38;5;28mlen\u001b[39m(all_args)\n\u001b[0;32m     62\u001b[0m \u001b[38;5;28;01mif\u001b[39;00m extra_args \u001b[38;5;241m<\u001b[39m\u001b[38;5;241m=\u001b[39m \u001b[38;5;241m0\u001b[39m:\n\u001b[1;32m---> 63\u001b[0m     \u001b[38;5;28;01mreturn\u001b[39;00m \u001b[43mf\u001b[49m\u001b[43m(\u001b[49m\u001b[38;5;241;43m*\u001b[39;49m\u001b[43margs\u001b[49m\u001b[43m,\u001b[49m\u001b[43m \u001b[49m\u001b[38;5;241;43m*\u001b[39;49m\u001b[38;5;241;43m*\u001b[39;49m\u001b[43mkwargs\u001b[49m\u001b[43m)\u001b[49m\n\u001b[0;32m     65\u001b[0m \u001b[38;5;66;03m# extra_args > 0\u001b[39;00m\n\u001b[0;32m     66\u001b[0m args_msg \u001b[38;5;241m=\u001b[39m [\u001b[38;5;124m'\u001b[39m\u001b[38;5;132;01m{}\u001b[39;00m\u001b[38;5;124m=\u001b[39m\u001b[38;5;132;01m{}\u001b[39;00m\u001b[38;5;124m'\u001b[39m\u001b[38;5;241m.\u001b[39mformat(name, arg)\n\u001b[0;32m     67\u001b[0m             \u001b[38;5;28;01mfor\u001b[39;00m name, arg \u001b[38;5;129;01min\u001b[39;00m \u001b[38;5;28mzip\u001b[39m(kwonly_args[:extra_args],\n\u001b[0;32m     68\u001b[0m                                  args[\u001b[38;5;241m-\u001b[39mextra_args:])]\n",
      "File \u001b[1;32m~\\anaconda3\\envs\\mlfinlab\\lib\\site-packages\\sklearn\\utils\\validation.py:720\u001b[0m, in \u001b[0;36mcheck_array\u001b[1;34m(array, accept_sparse, accept_large_sparse, dtype, order, copy, force_all_finite, ensure_2d, allow_nd, ensure_min_samples, ensure_min_features, estimator)\u001b[0m\n\u001b[0;32m    716\u001b[0m         \u001b[38;5;28;01mraise\u001b[39;00m \u001b[38;5;167;01mValueError\u001b[39;00m(\u001b[38;5;124m\"\u001b[39m\u001b[38;5;124mFound array with dim \u001b[39m\u001b[38;5;132;01m%d\u001b[39;00m\u001b[38;5;124m. \u001b[39m\u001b[38;5;132;01m%s\u001b[39;00m\u001b[38;5;124m expected <= 2.\u001b[39m\u001b[38;5;124m\"\u001b[39m\n\u001b[0;32m    717\u001b[0m                          \u001b[38;5;241m%\u001b[39m (array\u001b[38;5;241m.\u001b[39mndim, estimator_name))\n\u001b[0;32m    719\u001b[0m     \u001b[38;5;28;01mif\u001b[39;00m force_all_finite:\n\u001b[1;32m--> 720\u001b[0m         \u001b[43m_assert_all_finite\u001b[49m\u001b[43m(\u001b[49m\u001b[43marray\u001b[49m\u001b[43m,\u001b[49m\n\u001b[0;32m    721\u001b[0m \u001b[43m                           \u001b[49m\u001b[43mallow_nan\u001b[49m\u001b[38;5;241;43m=\u001b[39;49m\u001b[43mforce_all_finite\u001b[49m\u001b[43m \u001b[49m\u001b[38;5;241;43m==\u001b[39;49m\u001b[43m \u001b[49m\u001b[38;5;124;43m'\u001b[39;49m\u001b[38;5;124;43mallow-nan\u001b[39;49m\u001b[38;5;124;43m'\u001b[39;49m\u001b[43m)\u001b[49m\n\u001b[0;32m    723\u001b[0m \u001b[38;5;28;01mif\u001b[39;00m ensure_min_samples \u001b[38;5;241m>\u001b[39m \u001b[38;5;241m0\u001b[39m:\n\u001b[0;32m    724\u001b[0m     n_samples \u001b[38;5;241m=\u001b[39m _num_samples(array)\n",
      "File \u001b[1;32m~\\anaconda3\\envs\\mlfinlab\\lib\\site-packages\\sklearn\\utils\\validation.py:103\u001b[0m, in \u001b[0;36m_assert_all_finite\u001b[1;34m(X, allow_nan, msg_dtype)\u001b[0m\n\u001b[0;32m    100\u001b[0m     \u001b[38;5;28;01mif\u001b[39;00m (allow_nan \u001b[38;5;129;01mand\u001b[39;00m np\u001b[38;5;241m.\u001b[39misinf(X)\u001b[38;5;241m.\u001b[39many() \u001b[38;5;129;01mor\u001b[39;00m\n\u001b[0;32m    101\u001b[0m             \u001b[38;5;129;01mnot\u001b[39;00m allow_nan \u001b[38;5;129;01mand\u001b[39;00m \u001b[38;5;129;01mnot\u001b[39;00m np\u001b[38;5;241m.\u001b[39misfinite(X)\u001b[38;5;241m.\u001b[39mall()):\n\u001b[0;32m    102\u001b[0m         type_err \u001b[38;5;241m=\u001b[39m \u001b[38;5;124m'\u001b[39m\u001b[38;5;124minfinity\u001b[39m\u001b[38;5;124m'\u001b[39m \u001b[38;5;28;01mif\u001b[39;00m allow_nan \u001b[38;5;28;01melse\u001b[39;00m \u001b[38;5;124m'\u001b[39m\u001b[38;5;124mNaN, infinity\u001b[39m\u001b[38;5;124m'\u001b[39m\n\u001b[1;32m--> 103\u001b[0m         \u001b[38;5;28;01mraise\u001b[39;00m \u001b[38;5;167;01mValueError\u001b[39;00m(\n\u001b[0;32m    104\u001b[0m                 msg_err\u001b[38;5;241m.\u001b[39mformat\n\u001b[0;32m    105\u001b[0m                 (type_err,\n\u001b[0;32m    106\u001b[0m                  msg_dtype \u001b[38;5;28;01mif\u001b[39;00m msg_dtype \u001b[38;5;129;01mis\u001b[39;00m \u001b[38;5;129;01mnot\u001b[39;00m \u001b[38;5;28;01mNone\u001b[39;00m \u001b[38;5;28;01melse\u001b[39;00m X\u001b[38;5;241m.\u001b[39mdtype)\n\u001b[0;32m    107\u001b[0m         )\n\u001b[0;32m    108\u001b[0m \u001b[38;5;66;03m# for object dtype data, we only check for NaNs (GH-13254)\u001b[39;00m\n\u001b[0;32m    109\u001b[0m \u001b[38;5;28;01melif\u001b[39;00m X\u001b[38;5;241m.\u001b[39mdtype \u001b[38;5;241m==\u001b[39m np\u001b[38;5;241m.\u001b[39mdtype(\u001b[38;5;124m'\u001b[39m\u001b[38;5;124mobject\u001b[39m\u001b[38;5;124m'\u001b[39m) \u001b[38;5;129;01mand\u001b[39;00m \u001b[38;5;129;01mnot\u001b[39;00m allow_nan:\n",
      "\u001b[1;31mValueError\u001b[0m: Input contains NaN, infinity or a value too large for dtype('float32')."
     ]
    }
   ],
   "source": [
    "# Split the data into train, validation, and test sets\n",
    "X_train, X_test, y_train, y_test = train_test_split(training_data[features], training_data[target], test_size=0.2, shuffle=False)\n",
    "X_train, X_val, y_train, y_val = train_test_split(X_train, y_train, test_size=0.2, shuffle=False) \n",
    "\n",
    "# Train a random forest classifier\n",
    "rf = RandomForestClassifier(n_estimators=100, random_state=42, max_depth=7)\n",
    "rf.fit(X_train, y_train)"
   ]
  },
  {
   "cell_type": "code",
   "execution_count": null,
   "id": "69a64de5",
   "metadata": {},
   "outputs": [],
   "source": [
    "# Train a random forest classifier\n",
    "rf = RandomForestClassifier(n_estimators=100, random_state=42)\n",
    "rf.fit(X_train, y_train)"
   ]
  },
  {
   "cell_type": "code",
   "execution_count": null,
   "id": "e8f779f8",
   "metadata": {},
   "outputs": [],
   "source": [
    "# Predict the labels of the validation set\n",
    "y_val_pred = rf.predict(X_val)"
   ]
  },
  {
   "cell_type": "code",
   "execution_count": null,
   "id": "4410467e",
   "metadata": {},
   "outputs": [],
   "source": [
    "#training set\n",
    "\n",
    "# Predict labels for training set\n",
    "y_train_pred = rf.predict(X_train)\n",
    "\n",
    "# Calculate the confusion matrix, accuracy, precision, recall, and AUC/ROC score for training set\n",
    "conf_mat = confusion_matrix(y_train, y_train_pred)\n",
    "acc = accuracy_score(y_train, y_train_pred)\n",
    "prec = precision_score(y_train, y_train_pred)\n",
    "rec = recall_score(y_train, y_train_pred)\n",
    "auc = roc_auc_score(y_train, y_train_pred)\n",
    "\n",
    "# Print evaluation metrics\n",
    "print(\"Confusion Matrix:\\n\", conf_mat)\n",
    "print(\"Accuracy:\", acc)\n",
    "print(\"Precision:\", prec)\n",
    "print(\"Recall:\", rec)\n",
    "print(\"AUC/ROC Score:\", auc)\n"
   ]
  },
  {
   "cell_type": "code",
   "execution_count": null,
   "id": "5928e5c6",
   "metadata": {},
   "outputs": [],
   "source": [
    "# Calculate the confusion matrix, accuracy, precision, recall, and AUC/ROC score for validation\n",
    "conf_mat = confusion_matrix(y_val, y_val_pred)\n",
    "acc = accuracy_score(y_val, y_val_pred)\n",
    "prec = precision_score(y_val, y_val_pred)\n",
    "rec = recall_score(y_val, y_val_pred)\n",
    "auc = roc_auc_score(y_val, y_val_pred)\n",
    "\n",
    "# Print the results\n",
    "print(f'Confusion Matrix:\\n{conf_mat}\\n')\n",
    "print(f'Accuracy: {acc:.4f}')\n",
    "print(f'Precision: {prec:.4f}')\n",
    "print(f'Recall: {rec:.4f}')\n",
    "print(f'AUC/ROC: {auc:.4f}')"
   ]
  },
  {
   "cell_type": "code",
   "execution_count": null,
   "id": "badc65a5",
   "metadata": {},
   "outputs": [],
   "source": [
    "# Plot the ROC curve for validation\n",
    "fpr, tpr, _ = roc_curve(y_val, y_val_pred)\n",
    "plt.plot(fpr, tpr)\n",
    "plt.xlabel('False Positive Rate')\n",
    "plt.ylabel('True Positive Rate')\n",
    "plt.title('ROC Curve, Validation')\n",
    "plt.show()"
   ]
  },
  {
   "cell_type": "code",
   "execution_count": null,
   "id": "ecf90054",
   "metadata": {},
   "outputs": [],
   "source": [
    "# Feature Importance\n",
    "title = 'Feature Importance:'\n",
    "figsize = (15, 5)\n",
    "\n",
    "feat_imp = pd.DataFrame({'Importance':rf.feature_importances_})    \n",
    "feat_imp['feature'] = X_train.columns\n",
    "feat_imp.sort_values(by='Importance', ascending=False, inplace=True)\n",
    "feat_imp = feat_imp\n",
    "\n",
    "feat_imp.sort_values(by='Importance', inplace=True)\n",
    "feat_imp = feat_imp.set_index('feature', drop=True)\n",
    "feat_imp.plot.barh(title=title, figsize=figsize)\n",
    "plt.xlabel('Feature Importance Score')\n",
    "plt.show()\n",
    "\n",
    "feat_imp.tail(10)"
   ]
  },
  {
   "cell_type": "code",
   "execution_count": null,
   "id": "25ef61ac",
   "metadata": {},
   "outputs": [],
   "source": [
    "# Predict the labels of the test set\n",
    "y_test_pred = rf.predict(X_test)\n",
    "\n",
    "# Calculate the confusion matrix, accuracy, precision, recall, and AUC/ROC score for test set\n",
    "conf_mat_test = confusion_matrix(y_test, y_test_pred)\n",
    "acc_test = accuracy_score(y_test, y_test_pred)\n",
    "prec_test = precision_score(y_test, y_test_pred)\n",
    "rec_test = recall_score(y_test, y_test_pred)\n",
    "auc_test = roc_auc_score(y_test, y_test_pred)\n",
    "\n",
    "# Print the results for test set\n",
    "print(f'Test Set Results:')\n",
    "print(f'Confusion Matrix:\\n{conf_mat_test}\\n')\n",
    "print(f'Accuracy: {acc_test:.4f}')\n",
    "print(f'Precision: {prec_test:.4f}')\n",
    "print(f'Recall: {rec_test:.4f}')\n",
    "print(f'AUC/ROC: {auc_test:.4f}')"
   ]
  },
  {
   "cell_type": "code",
   "execution_count": null,
   "id": "6b4a01f0",
   "metadata": {},
   "outputs": [],
   "source": [
    "# Plot the ROC curve for test set\n",
    "fpr_test, tpr_test, _ = roc_curve(y_test, y_test_pred)\n",
    "plt.plot(fpr_test, tpr_test)\n",
    "plt.xlabel('False Positive Rate')\n",
    "plt.ylabel('True Positive Rate')\n",
    "plt.title('ROC Curve for Test Set')\n",
    "plt.show()"
   ]
  },
  {
   "cell_type": "code",
   "execution_count": 51,
   "id": "8d54e755",
   "metadata": {},
   "outputs": [],
   "source": [
    "# Predict the labels and probabilities of the test set\n",
    "y_test_pred = rf.predict(X_test)\n",
    "y_test_pred_proba = rf.predict_proba(X_test)[:, 1]\n",
    "\n",
    "# Convert the test set predictions and predicted probabilities to a dataframe with date index\n",
    "test_predictions = pd.DataFrame({'predicted_bin': y_test_pred, 'predicted_proba': y_test_pred_proba}, index=X_test.index)"
   ]
  },
  {
   "cell_type": "code",
   "execution_count": 52,
   "id": "f75619d7",
   "metadata": {},
   "outputs": [
    {
     "name": "stdout",
     "output_type": "stream",
     "text": [
      "            predicted_bin  predicted_proba\n",
      "Date                                      \n",
      "2022-02-11              1             0.58\n",
      "2022-02-14              1             0.56\n",
      "2022-02-15              1             0.53\n",
      "2022-02-16              1             0.57\n",
      "2022-02-17              1             0.60\n",
      "...                   ...              ...\n",
      "2023-03-06              1             0.52\n",
      "2023-03-07              1             0.63\n",
      "2023-03-08              1             0.53\n",
      "2023-03-09              1             0.53\n",
      "2023-03-10              1             0.62\n",
      "\n",
      "[269 rows x 2 columns]\n"
     ]
    }
   ],
   "source": [
    "\n",
    "# Sort the DataFrame by the index to get oldest to newest date order\n",
    "test_predictions = test_predictions.sort_index()\n",
    "\n",
    "# Print the results\n",
    "print(test_predictions)\n"
   ]
  }
 ],
 "metadata": {
  "kernelspec": {
   "display_name": "Mlfinlabenv",
   "language": "python",
   "name": "mlfinlabenv"
  },
  "language_info": {
   "codemirror_mode": {
    "name": "ipython",
    "version": 3
   },
   "file_extension": ".py",
   "mimetype": "text/x-python",
   "name": "python",
   "nbconvert_exporter": "python",
   "pygments_lexer": "ipython3",
   "version": "3.8.16"
  }
 },
 "nbformat": 4,
 "nbformat_minor": 5
}
